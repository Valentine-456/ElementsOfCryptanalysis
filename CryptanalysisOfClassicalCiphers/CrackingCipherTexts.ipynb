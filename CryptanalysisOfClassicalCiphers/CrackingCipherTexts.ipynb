{
 "cells": [
  {
   "cell_type": "code",
   "execution_count": 1,
   "id": "a4d52130",
   "metadata": {},
   "outputs": [],
   "source": [
    "import numpy as np \n",
    "import random\n",
    "import matplotlib.pyplot as plt\n",
    "import string\n",
    "import common as cm"
   ]
  },
  {
   "cell_type": "code",
   "execution_count": 2,
   "id": "f6d37d82",
   "metadata": {},
   "outputs": [],
   "source": [
    "ciphertext1 = \"nrstymjwjytgjujwkjhynrmjwjytgjwjfqqfidlflf\""
   ]
  },
  {
   "cell_type": "code",
   "execution_count": 3,
   "id": "bf29c56f",
   "metadata": {},
   "outputs": [],
   "source": [
    "englishAlphabet = list(string.ascii_lowercase)"
   ]
  },
  {
   "cell_type": "code",
   "execution_count": 4,
   "id": "5027dda4",
   "metadata": {},
   "outputs": [],
   "source": [
    "bookEnglish = open(\"./statics/PictureOfDorianGray.txt\", \"r\", encoding='utf8')\n",
    "counter = 0 \n",
    "sampleNaturalLanguage = \"\"\n",
    "\n",
    "for line in bookEnglish:\n",
    "    sampleNaturalLanguage += cm.lclear(line.strip())\n",
    "    counter += 1\n",
    "    if counter > 5000: \n",
    "        break"
   ]
  },
  {
   "cell_type": "code",
   "execution_count": 5,
   "id": "bdb71079",
   "metadata": {},
   "outputs": [],
   "source": [
    "frequencyTableNaturalLanguage = cm.getFrequencyTable(sampleNaturalLanguage, englishAlphabet)\n",
    "frequencyTableChipher = cm.getFrequencyTable(ciphertext1, englishAlphabet)\n",
    "\n",
    "\n",
    "cipherTextFrequenciesSorted = list(frequencyTableChipher.items())\n",
    "cipherTextFrequenciesSorted.sort(key = lambda x: x[1], reverse = True)\n",
    "naturalLanguageFrequenciesSorted = list(frequencyTableNaturalLanguage.items())\n",
    "naturalLanguageFrequenciesSorted.sort(key = lambda x: x[1], reverse = True)"
   ]
  },
  {
   "cell_type": "code",
   "execution_count": 6,
   "id": "c792ea9c",
   "metadata": {},
   "outputs": [
    {
     "data": {
      "image/png": "[encoded data removed]",
      "text/plain": [
       "<Figure size 864x864 with 2 Axes>"
      ]
     },
     "metadata": {
      "needs_background": "light"
     },
     "output_type": "display_data"
    }
   ],
   "source": [
    "fig, (ax1, ax2) = plt.subplots(2, 1, figsize=(12,12))\n",
    "\n",
    "ax1.bar(\n",
    "    list(map(lambda x: x[0] ,naturalLanguageFrequenciesSorted)),\n",
    "    list(map(lambda x: x[1] ,naturalLanguageFrequenciesSorted)),\n",
    "    color=\"tab:green\"\n",
    ")\n",
    "ax1.set(title=\"Natural Language Sample\")\n",
    "ax2.bar(\n",
    "    list(map(lambda x: x[0] ,cipherTextFrequenciesSorted)),\n",
    "    list(map(lambda x: x[1] ,cipherTextFrequenciesSorted)),\n",
    "    color=\"tab:orange\"\n",
    ")\n",
    "ax2.set(title=\"Ciphertext\")\n",
    "plt.show()"
   ]
  },
  {
   "cell_type": "code",
   "execution_count": 7,
   "id": "0b6fc5f9",
   "metadata": {},
   "outputs": [
    {
     "name": "stdout",
     "output_type": "stream",
     "text": [
      "{'a': 'v', 'b': 'w', 'c': 'x', 'd': 'y', 'e': 'z', 'f': 'a', 'g': 'b', 'h': 'c', 'i': 'd', 'j': 'e', 'k': 'f', 'l': 'g', 'm': 'h', 'n': 'i', 'o': 'j', 'p': 'k', 'q': 'l', 'r': 'm', 's': 'n', 't': 'o', 'u': 'p', 'v': 'q', 'w': 'r', 'x': 's', 'y': 't', 'z': 'u', ' ': ' '}\n",
      "[('e', 0.12191759136797921), ('t', 0.08848536222929189), ('a', 0.08207670978251434), ('o', 0.07932941494875631), ('i', 0.07170541646027911), ('h', 0.06466866500875763), ('n', 0.06349417093484622), ('s', 0.061727323328005554), ('r', 0.05953663655536207), ('d', 0.043859693916631345), ('l', 0.04322648841591389), ('u', 0.030286627618994123), ('m', 0.026880594804650996), ('y', 0.02517502514949267), ('w', 0.024643949568245765), ('f', 0.02125834273779675), ('c', 0.020553646293449898), ('g', 0.01996129276052066), ('p', 0.014951820210489764), ('b', 0.014609684980263393), ('v', 0.009860643724882424), ('k', 0.007838471319365365), ('x', 0.001562587767899545), ('j', 0.0009906602188644175), ('q', 0.0009702342349703057), ('z', 0.0004289456617763457)]\n"
     ]
    }
   ],
   "source": [
    "possibleDecryption = {}\n",
    "for i in range(len(cipherTextFrequenciesSorted)):\n",
    "    possibleDecryption[englishAlphabet[i]] = englishAlphabet[(i - 5) % 26]\n",
    "possibleDecryption[\" \"] = \" \"\n",
    "    \n",
    "print(possibleDecryption)\n",
    "print(naturalLanguageFrequenciesSorted)"
   ]
  },
  {
   "cell_type": "code",
   "execution_count": 8,
   "id": "3aa78079",
   "metadata": {},
   "outputs": [
    {
     "name": "stdout",
     "output_type": "stream",
     "text": [
      "Cipher text : nrstymjwjytgjujwkjhynrmjwjytgjwjfqqfidlflf\n",
      "Decrypted message : imnotheretobeperfectimheretoberealladygaga\n",
      "\n"
     ]
    }
   ],
   "source": [
    "decryptionAttempt = \"\"\n",
    "for ch in ciphertext1:\n",
    "    decryptionAttempt= decryptionAttempt + possibleDecryption[ch]\n",
    "    \n",
    "print(f\"Cipher text : {ciphertext1}\")\n",
    "print(f\"Decrypted message : {decryptionAttempt}\\n\")"
   ]
  },
  {
   "cell_type": "markdown",
   "id": "590748ad",
   "metadata": {},
   "source": [
    "*******\n"
   ]
  },
  {
   "cell_type": "code",
   "execution_count": 9,
   "id": "42ae3ff2",
   "metadata": {},
   "outputs": [],
   "source": [
    "ciphertext2 = \"bljjubbcbzteqczfdqfcdlvucbzteqfefdcecbeyujtlvfwuetjtzeczlueyfejtlzebsczbetzjylvjycdd\""
   ]
  },
  {
   "cell_type": "code",
   "execution_count": 10,
   "id": "bfb77d8e",
   "metadata": {},
   "outputs": [],
   "source": [
    "naturalLanguageAnalysis = cm.KGramAnalysis(textToAnalize=sampleNaturalLanguage, k=4)\n",
    "fitnessTable, floorFitness = naturalLanguageAnalysis.calculateLogarithmicFitnessTable()"
   ]
  },
  {
   "cell_type": "code",
   "execution_count": 11,
   "id": "9bba9ab6-16d4-4fad-a28a-57b9a60b3a60",
   "metadata": {},
   "outputs": [
    {
     "name": "stdout",
     "output_type": "stream",
     "text": [
      "-7.291870352977305\n"
     ]
    }
   ],
   "source": [
    "print(floorFitness)"
   ]
  },
  {
   "cell_type": "code",
   "execution_count": 12,
   "id": "b980cd6a",
   "metadata": {},
   "outputs": [
    {
     "data": {
      "text/plain": [
       "-155.32905885823183"
      ]
     },
     "execution_count": 12,
     "metadata": {},
     "output_type": "execute_result"
    }
   ],
   "source": [
    "naturalLanguageAnalysis.fitnessMeasure('A mad dog is nothing more but a wicked creature.', fitnessTable, floorFitness)"
   ]
  },
  {
   "cell_type": "code",
   "execution_count": 13,
   "id": "dd81822a",
   "metadata": {},
   "outputs": [
    {
     "data": {
      "text/plain": [
       "-588.1643773364416"
      ]
     },
     "execution_count": 13,
     "metadata": {},
     "output_type": "execute_result"
    }
   ],
   "source": [
    "naturalLanguageAnalysis.fitnessMeasure(ciphertext2, fitnessTable, floorFitness)"
   ]
  },
  {
   "cell_type": "code",
   "execution_count": 14,
   "id": "640f243f-cf2b-41a6-8b55-9422c4553817",
   "metadata": {},
   "outputs": [],
   "source": [
    "def encryptMessage(message: str, publicKey: list[int], alphabet: list[str]) -> str:\n",
    "    message_lowercase = message.lower()\n",
    "    ciphertext = \"\"\n",
    "\n",
    "    for i in message_lowercase:\n",
    "        if(i == \" \"):\n",
    "            ciphertext = ciphertext + \" \"\n",
    "        elif (i not in alphabet):\n",
    "            continue\n",
    "        else:\n",
    "            nextChar = alphabet[publicKey[alphabet.index(i)]]\n",
    "            ciphertext = ciphertext + nextChar\n",
    "\n",
    "    return ciphertext\n",
    "\n",
    "def decryptMessage(ciphertext: str, privateKey: list[int], alphabet: list[str]) -> str:\n",
    "    return encryptMessage(ciphertext, privateKey, alphabet)"
   ]
  },
  {
   "cell_type": "code",
   "execution_count": 15,
   "id": "96c01b0e-85b0-4afd-997f-5a6e6ef46f6c",
   "metadata": {},
   "outputs": [],
   "source": [
    "def crackSubstitutionCipher(cipher: str, kGramTools: cm.KGramAnalysis, alphabet: list[str], iterations: int = 100):\n",
    "    fitnessTable, floorFitness = kGramTools.calculateLogarithmicFitnessTable()\n",
    "    ciphertext = cm.lclear(cipher)\n",
    "    maxkey = list(range(0, len(alphabet)))\n",
    "    maxscore = -99e9\n",
    "    parentScore,parentKey = maxscore, maxkey\n",
    "    \n",
    "    for i in range(1, iterations):\n",
    "        random.shuffle(parentKey)\n",
    "        possiblePlaintext = decryptMessage(ciphertext, parentKey, alphabet)\n",
    "        parentScore = kGramTools.fitnessMeasure(possiblePlaintext, fitnessTable, floorFitness)\n",
    "        \n",
    "        count = 0\n",
    "        while count < 1000:\n",
    "            a = random.randint(0,25)\n",
    "            b = random.randint(0,25)\n",
    "            childKey = parentKey[:]\n",
    "            childKey[a],childKey[b] = childKey[b],childKey[a]\n",
    "            candidateDecryption = decryptMessage(ciphertext, childKey, alphabet)\n",
    "            childScore = kGramTools.fitnessMeasure(candidateDecryption, fitnessTable, floorFitness)\n",
    "            if childScore > parentScore:\n",
    "                parentScore = childScore\n",
    "                parentKey = childKey[:]\n",
    "                count = 0\n",
    "            count += 1\n",
    "        \n",
    "        if parentScore > maxscore:\n",
    "            maxscore,maxkey = parentScore,parentKey[:]\n",
    "            print('\\nbest score so far:',maxscore,'on iteration',i)\n",
    "            ss = decryptMessage(ciphertext, maxkey, englishAlphabet)\n",
    "            print('    best key: '+''.join(str(maxkey)))\n",
    "            print('    plaintext: '+ss)\n",
    "    \n",
    "    return maxkey"
   ]
  },
  {
   "cell_type": "code",
   "execution_count": 16,
   "id": "375014f0-e1a3-424c-a149-f06c5621e3c6",
   "metadata": {},
   "outputs": [
    {
     "name": "stdout",
     "output_type": "stream",
     "text": [
      "\n",
      "best score so far: -421.0725112207267 on iteration 1\n",
      "    best key: [15, 18, 14, 13, 19, 8, 6, 21, 2, 22, 3, 24, 16, 23, 9, 20, 5, 1, 12, 0, 4, 11, 10, 25, 7, 17]\n",
      "    plaintext: sywwessosratforinfionyleosratfitinotosthewayliketawartoryethitwayrtsmorstarwhylwhonn\n",
      "\n",
      "best score so far: -347.62564780904216 on iteration 4\n",
      "    best key: [16, 18, 8, 11, 19, 0, 22, 1, 23, 2, 3, 20, 21, 10, 24, 15, 12, 9, 5, 14, 4, 17, 6, 25, 7, 13]\n",
      "    plaintext: successisnotminalmailureisnotmatalitisthecouragetocontinuethatcountsfinstonchurchill\n"
     ]
    }
   ],
   "source": [
    "decryptionKey = crackSubstitutionCipher(ciphertext2, naturalLanguageAnalysis, englishAlphabet)"
   ]
  },
  {
   "cell_type": "code",
   "execution_count": 17,
   "id": "ff00c771-1f01-4db9-9722-771ce20a3515",
   "metadata": {},
   "outputs": [
    {
     "data": {
      "text/plain": [
       "'successisnotminalmailureisnotmatalitisthecouragetocontinuethatcountsfinstonchurchill'"
      ]
     },
     "execution_count": 17,
     "metadata": {},
     "output_type": "execute_result"
    }
   ],
   "source": [
    "decryptMessage(ciphertext2, decryptionKey, englishAlphabet)"
   ]
  },
  {
   "cell_type": "markdown",
   "id": "c81a5275-98a4-4959-8a29-fadbc1f03bd1",
   "metadata": {},
   "source": [
    "----------"
   ]
  },
  {
   "cell_type": "code",
   "execution_count": 18,
   "id": "a54ce03c-78ba-426b-9971-a3115c3b970d",
   "metadata": {},
   "outputs": [],
   "source": [
    "ciphertext3 = \"sakkgpsaizumivvzteuhioztpvbzxezvtrmgibniazcfxxunkfbnqriyqbqdegmjpyfrixzaqrlkpweelkpweelcmseactgsyntzqdhljkmrkvnzqdavbnfhinjoxixlbufhmasrqavaitpfirtkyoxvwtelmxmgtuqnvhqirtpktahnavqcmntoztiemyfirpwjqsealidytgwmdatugyberqqtscshvzxewfpugrwrfvxovvvmfhisiyoirnbozgabzrpojfmidexzmyeakrauzehngkpweelyfuqotkputbvgzarpqkztfbwqangegvfarnteeiwvvztezvtrmgiyqhdavlbnqbsbscmsjvtrqdavbnyywgmxuoyfkupewnvjoitumxearqbnqtiqleneeenkxtefcjperhzmqtshvxmviybnqsipzkfslvljqnavbnunlrjudrsjmjfhiowuwarqjksargwyfuhlqziixunkdviabjqdmpizuor\""
   ]
  },
  {
   "cell_type": "code",
   "execution_count": 19,
   "id": "997496dd-be53-4a74-82b3-c86709854fdb",
   "metadata": {},
   "outputs": [],
   "source": [
    "from collections import Counter\n",
    "import string\n",
    "\n",
    "def compute_ic(text, alphabet):\n",
    "    text = cm.lclear(text)\n",
    "    counts = Counter(c for c in text if c in alphabet)\n",
    "    total = sum(counts.values())\n",
    "    ic = sum(n * (n - 1) for n in counts.values()) / (total * (total - 1))\n",
    "    ic *= 26\n",
    "    return ic"
   ]
  },
  {
   "cell_type": "code",
   "execution_count": 20,
   "id": "6a04ff08-b8dc-42a3-9807-cacdeeeaf66e",
   "metadata": {},
   "outputs": [
    {
     "data": {
      "text/plain": [
       "1.0513334100763592"
      ]
     },
     "execution_count": 20,
     "metadata": {},
     "output_type": "execute_result"
    }
   ],
   "source": [
    "compute_ic(ciphertext3, englishAlphabet)"
   ]
  },
  {
   "cell_type": "code",
   "execution_count": 21,
   "id": "dcbfff24-9862-441b-bda9-fba538d4dcf9",
   "metadata": {},
   "outputs": [
    {
     "name": "stdout",
     "output_type": "stream",
     "text": [
      "[(12, 1.6835075493612077), (6, 1.6677871148459384), (18, 1.6164021164021165), (3, 1.2766214177978885), (9, 1.2587301587301587), (15, 1.229708853238265), (14, 1.2056689342403628), (2, 1.1625135093407442), (19, 1.1578947368421055), (4, 1.1568553930758658), (17, 1.1391480730223122), (16, 1.1252688172043013), (8, 1.118279569892473), (10, 1.1154509803921566), (20, 1.0963333333333336), (13, 1.0796221322537112), (11, 1.0322353974527887), (5, 1.015569792273345), (7, 1.0133724722765818)]\n"
     ]
    }
   ],
   "source": [
    "possibleKeyLengths = []\n",
    "\n",
    "for keyLength in range(2, 21):\n",
    "    indexes = []\n",
    "    for shift in range(0, keyLength):\n",
    "        lengthOfSubstring = len(ciphertext3) // keyLength\n",
    "        charsToAnalyse = \"\".join([ciphertext3[keyLength*i + shift] for i in range(0, lengthOfSubstring)])\n",
    "        indexOfCoincidence = compute_ic(charsToAnalyse, englishAlphabet)\n",
    "        indexes.append(indexOfCoincidence)\n",
    "    averageIndex = sum(indexes)/len(indexes)\n",
    "    possibleKeyLengths.append((keyLength, averageIndex))\n",
    "\n",
    "possibleKeyLengths.sort(key = lambda x: x[1], reverse=True)\n",
    "print(possibleKeyLengths)"
   ]
  },
  {
   "cell_type": "code",
   "execution_count": 22,
   "id": "c096c4c3-aeb6-467f-89bd-78f748e48c70",
   "metadata": {},
   "outputs": [
    {
     "data": {
      "text/plain": [
       "1.6893451023928967"
      ]
     },
     "execution_count": 22,
     "metadata": {},
     "output_type": "execute_result"
    }
   ],
   "source": [
    "compute_ic(sampleNaturalLanguage, englishAlphabet)"
   ]
  },
  {
   "cell_type": "code",
   "execution_count": 23,
   "id": "7f630c89-1264-4b56-a0b6-3fa4fe3d90fb",
   "metadata": {},
   "outputs": [],
   "source": [
    "keyLength = 6\n",
    "frequencyTables = []\n",
    "\n",
    "for shift in range(0, keyLength):\n",
    "    lengthOfSubstring = len(ciphertext3) // keyLength\n",
    "    charsToAnalyse = \"\".join([ciphertext3[keyLength*i + shift] for i in range(0, lengthOfSubstring)])\n",
    "\n",
    "    frequencyTableChipher = cm.getFrequencyTable(charsToAnalyse, englishAlphabet)\n",
    "    cipherTextFrequenciesSorted = list(frequencyTableChipher.items())\n",
    "    cipherTextFrequenciesSorted.sort(key = lambda x: x[1], reverse = True)\n",
    "    frequencyTables.append(cipherTextFrequenciesSorted)"
   ]
  },
  {
   "cell_type": "code",
   "execution_count": 24,
   "id": "a9c158b9-7b7f-4926-96d2-67617d430236",
   "metadata": {},
   "outputs": [
    {
     "data": {
      "image/png": "[encoded data removed]",
      "text/plain": [
       "<Figure size 864x864 with 2 Axes>"
      ]
     },
     "metadata": {
      "needs_background": "light"
     },
     "output_type": "display_data"
    }
   ],
   "source": [
    "fig, (ax1, ax2) = plt.subplots(2, 1, figsize=(12,12))\n",
    "\n",
    "ax1.bar(\n",
    "    list(map(lambda x: x[0] ,naturalLanguageFrequenciesSorted)),\n",
    "    list(map(lambda x: x[1] ,naturalLanguageFrequenciesSorted)),\n",
    "    color=\"tab:green\"\n",
    ")\n",
    "ax1.set(title=\"Natural Language Sample\")\n",
    "ax2.bar(\n",
    "    list(map(lambda x: x[0] ,frequencyTables[5])),\n",
    "    list(map(lambda x: x[1] ,frequencyTables[5])),\n",
    "    color=\"tab:orange\"\n",
    ")\n",
    "ax2.set(title=\"Ciphertext\")\n",
    "plt.show()"
   ]
  },
  {
   "cell_type": "code",
   "execution_count": 25,
   "id": "4e4856d3-8508-4825-94c2-cb61abe2799f",
   "metadata": {},
   "outputs": [],
   "source": [
    "def decryptVigenere(cipher: str, key: list[int], alphabet: list[str]):\n",
    "    ciphertext = cm.lclear(cipher)\n",
    "    plaintext = \"\"\n",
    "    for count, char in enumerate(ciphertext):\n",
    "        position = alphabet.index(char)\n",
    "        currentPositionInKey = count % len(key)\n",
    "        newChar = alphabet[(position - key[currentPositionInKey]) % len(alphabet)]\n",
    "        plaintext += newChar\n",
    "    return plaintext"
   ]
  },
  {
   "cell_type": "code",
   "execution_count": 26,
   "id": "29d37dd5-c27e-4ca1-ae1c-c32f00272b55",
   "metadata": {},
   "outputs": [
    {
     "name": "stdout",
     "output_type": "stream",
     "text": [
      "orrevporptjmemctieqypiotlmitmevmalbgesucpzywerjngwihfrepxvfdaxtdeybiproamiseewavseewavswbsarjnvsueatfddcqebrgmutfdwmihuheeqimitciouhirzlfarrpnefeiaenotmdntliotaiumecbfinkweiadehpfcieaiotevtsuingddfsarscsypxdgsaplnsqenhxnhcoyctmeswwovrsimpmormcguhejpsdineiiogwsgleofwtcsetqtstagihooedeneewavssuumfaeeupscaoangxeotbsdkpncvnpuaneaytismctievmalbgepxbsarcihfboszwbsfmalfdwmihnysxtrjouwroeesecddipltrtanhihftehsyceavuemtawjdeenyggftoycrbvepihfseggeushmsdfnwmihjnhiqosroatduhefdolanhqehanxdsuudcxtxitluesveridfdigptjon\n"
     ]
    }
   ],
   "source": [
    "print(decryptVigenere(ciphertext3, [4, 9, 19, 6, 11, 0], englishAlphabet))"
   ]
  },
  {
   "cell_type": "code",
   "execution_count": 27,
   "id": "5264c0f5-c07e-43e4-8e06-048ab009b86a",
   "metadata": {},
   "outputs": [
    {
     "name": "stdout",
     "output_type": "stream",
     "text": [
      "orreuporptimemctheqypintlmitlevmalagesucozyweringwiherepxvedaxtddybiprnamisedwavsedwavswasarjnusueateddcqeargmutedwmihtheeqilitciothirzlearrpndfeiaemotmdnsliotahumecbeinkwehadehpecieaintevtstingddesarscrypxdgraplnspenhxngcoyctleswwoursimplormcgthejpscineiingwsgldofwtcretqtssagihonedenedwavsstumfaedupscanangxentbsdkoncvnptaneaysismcthevmalagepxbrarciheboszwasfmaledwmihmysxtriouwrodesecdcipltrsanhihetehsybeavueltawjddenyggetoycravepiheseggetshmsdenwmihinhiqorroatdthefdokanhqeganxdstudcxtwitluerveridedigption\n"
     ]
    }
   ],
   "source": [
    "print(decryptVigenere(ciphertext3, [4, 9, 19, 6, 12, 0], englishAlphabet))"
   ]
  },
  {
   "cell_type": "code",
   "execution_count": 28,
   "id": "9072b02d-5b84-4686-8cfa-e158b15c6b8d",
   "metadata": {},
   "outputs": [
    {
     "data": {
      "text/plain": [
       "'onceuponatimeinthequaintlittlevillageofcozyspringstherelivedateddybearnamededwardedwardwasanunusualteddybeargiftedwiththeabilitytothinklearnandfeelemotionslikeahumanbeinghehadaspecialinterestincodesandcryptographyspendingcountlesshoursexploringthefascinatingworldofsecretmessagesonedayedwardstumbleduponanancientbookoncryptanalysisinthevillagelibrarythebookwasfilledwithmysteriouscodesandciphersandtheteddybearfeltasuddenurgetounravelthesecretshiddenwithinheborrowedthebookandbegantostudyitwithferventdedication'"
      ]
     },
     "execution_count": 28,
     "metadata": {},
     "output_type": "execute_result"
    }
   ],
   "source": [
    "decryptVigenere(ciphertext3, [4, 13, 8, 6, 12, 0], englishAlphabet)"
   ]
  },
  {
   "cell_type": "code",
   "execution_count": 37,
   "id": "c92ac8d8-5231-4936-804f-9df31f2eca41",
   "metadata": {},
   "outputs": [
    {
     "name": "stdout",
     "output_type": "stream",
     "text": [
      "Code word is : enigma\n"
     ]
    }
   ],
   "source": [
    "print(f\"Code word is : {''.join(englishAlphabet[i] for i in [4, 13, 8, 6, 12, 0])}\")"
   ]
  },
  {
   "cell_type": "markdown",
   "id": "56af7a21-588c-4cdd-8979-8e9cf463d100",
   "metadata": {},
   "source": [
    "----------------------"
   ]
  },
  {
   "cell_type": "code",
   "execution_count": null,
   "id": "fdd25768-4aea-4785-88b7-59d67b39c819",
   "metadata": {},
   "outputs": [],
   "source": []
  }
 ],
 "metadata": {
  "kernelspec": {
   "display_name": "Python 3 (ipykernel)",
   "language": "python",
   "name": "python3"
  },
  "language_info": {
   "codemirror_mode": {
    "name": "ipython",
    "version": 3
   },
   "file_extension": ".py",
   "mimetype": "text/x-python",
   "name": "python",
   "nbconvert_exporter": "python",
   "pygments_lexer": "ipython3",
   "version": "3.9.12"
  }
 },
 "nbformat": 4,
 "nbformat_minor": 5
}
