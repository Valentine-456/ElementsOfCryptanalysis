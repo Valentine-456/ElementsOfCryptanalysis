{
 "cells": [
  {
   "cell_type": "markdown",
   "id": "7f70f04e-49fa-4572-a3a3-20cd9ea41e93",
   "metadata": {
    "tags": []
   },
   "source": [
    "# Classical ciphers challenge\n",
    "\n",
    "The task is to crack the four ciphertexts. Each one is written in plain text English. The ciphertexts are in [cracking_challenges.md](./cracking_challenges.md)"
   ]
  },
  {
   "cell_type": "code",
   "execution_count": 1,
   "id": "a4d52130",
   "metadata": {},
   "outputs": [],
   "source": [
    "import random\n",
    "import copy\n",
    "import re\n",
    "import math\n",
    "import string\n",
    "import numpy as np\n",
    "import matplotlib.pyplot as plt\n",
    "from PIL import Image\n",
    "import common as cm"
   ]
  },
  {
   "cell_type": "markdown",
   "id": "49fc9df8-fb33-426f-9386-0c7f6b906f99",
   "metadata": {},
   "source": [
    "## Challenge 1 - Ceasar's cipher\n",
    "--------"
   ]
  },
  {
   "cell_type": "code",
   "execution_count": 2,
   "id": "f6d37d82",
   "metadata": {},
   "outputs": [],
   "source": [
    "ciphertext1 = \"nrstymjwjytgjujwkjhynrmjwjytgjwjfqqfidlflf\""
   ]
  },
  {
   "cell_type": "code",
   "execution_count": 3,
   "id": "bf29c56f",
   "metadata": {},
   "outputs": [],
   "source": [
    "englishAlphabet = list(string.ascii_lowercase)"
   ]
  },
  {
   "cell_type": "code",
   "execution_count": 4,
   "id": "5027dda4",
   "metadata": {},
   "outputs": [],
   "source": [
    "bookEnglish = open(\"./statics/PictureOfDorianGray.txt\", \"r\", encoding='utf8')\n",
    "counter = 0 \n",
    "sampleNaturalLanguage = \"\"\n",
    "\n",
    "for line in bookEnglish:\n",
    "    sampleNaturalLanguage += cm.lclear(line.strip())\n",
    "    counter += 1\n",
    "    if counter > 5000: \n",
    "        break"
   ]
  },
  {
   "cell_type": "code",
   "execution_count": 5,
   "id": "bdb71079",
   "metadata": {},
   "outputs": [],
   "source": [
    "frequencyTableNaturalLanguage = cm.getFrequencyTable(sampleNaturalLanguage, englishAlphabet)\n",
    "frequencyTableChipher = cm.getFrequencyTable(ciphertext1, englishAlphabet)\n",
    "\n",
    "\n",
    "cipherTextFrequenciesSorted = list(frequencyTableChipher.items())\n",
    "cipherTextFrequenciesSorted.sort(key = lambda x: x[1], reverse = True)\n",
    "naturalLanguageFrequenciesSorted = list(frequencyTableNaturalLanguage.items())\n",
    "naturalLanguageFrequenciesSorted.sort(key = lambda x: x[1], reverse = True)"
   ]
  },
  {
   "cell_type": "code",
   "execution_count": 6,
   "id": "c792ea9c",
   "metadata": {},
   "outputs": [
    {
     "data": {
      "image/png": "[encoded data removed]",
      "text/plain": [
       "<Figure size 864x864 with 2 Axes>"
      ]
     },
     "metadata": {
      "needs_background": "light"
     },
     "output_type": "display_data"
    }
   ],
   "source": [
    "fig, (ax1, ax2) = plt.subplots(2, 1, figsize=(12,12))\n",
    "\n",
    "ax1.bar(\n",
    "    list(map(lambda x: x[0] ,naturalLanguageFrequenciesSorted)),\n",
    "    list(map(lambda x: x[1] ,naturalLanguageFrequenciesSorted)),\n",
    "    color=\"tab:green\"\n",
    ")\n",
    "ax1.set(title=\"Natural Language Sample\")\n",
    "ax2.bar(\n",
    "    list(map(lambda x: x[0] ,cipherTextFrequenciesSorted)),\n",
    "    list(map(lambda x: x[1] ,cipherTextFrequenciesSorted)),\n",
    "    color=\"tab:orange\"\n",
    ")\n",
    "ax2.set(title=\"Ciphertext\")\n",
    "plt.show()"
   ]
  },
  {
   "cell_type": "markdown",
   "id": "5271a17a-05ea-42dd-9c5e-9e7a225d2768",
   "metadata": {},
   "source": [
    "Using the diagram above we can make assumtions of the most probable shift by looking at frequencies of characters\n",
    "\n",
    "**Assumption**: shift = 5"
   ]
  },
  {
   "cell_type": "code",
   "execution_count": 7,
   "id": "0b6fc5f9",
   "metadata": {},
   "outputs": [
    {
     "name": "stdout",
     "output_type": "stream",
     "text": [
      "{'a': 'v', 'b': 'w', 'c': 'x', 'd': 'y', 'e': 'z', 'f': 'a', 'g': 'b', 'h': 'c', 'i': 'd', 'j': 'e', 'k': 'f', 'l': 'g', 'm': 'h', 'n': 'i', 'o': 'j', 'p': 'k', 'q': 'l', 'r': 'm', 's': 'n', 't': 'o', 'u': 'p', 'v': 'q', 'w': 'r', 'x': 's', 'y': 't', 'z': 'u', ' ': ' '}\n",
      "[('e', 0.12191759136797921), ('t', 0.08848536222929189), ('a', 0.08207670978251434), ('o', 0.07932941494875631), ('i', 0.07170541646027911), ('h', 0.06466866500875763), ('n', 0.06349417093484622), ('s', 0.061727323328005554), ('r', 0.05953663655536207), ('d', 0.043859693916631345), ('l', 0.04322648841591389), ('u', 0.030286627618994123), ('m', 0.026880594804650996), ('y', 0.02517502514949267), ('w', 0.024643949568245765), ('f', 0.02125834273779675), ('c', 0.020553646293449898), ('g', 0.01996129276052066), ('p', 0.014951820210489764), ('b', 0.014609684980263393), ('v', 0.009860643724882424), ('k', 0.007838471319365365), ('x', 0.001562587767899545), ('j', 0.0009906602188644175), ('q', 0.0009702342349703057), ('z', 0.0004289456617763457)]\n"
     ]
    }
   ],
   "source": [
    "possibleDecryption = {}\n",
    "for i in range(len(cipherTextFrequenciesSorted)):\n",
    "    possibleDecryption[englishAlphabet[i]] = englishAlphabet[(i - 5) % 26]\n",
    "possibleDecryption[\" \"] = \" \"\n",
    "    \n",
    "print(possibleDecryption)\n",
    "print(naturalLanguageFrequenciesSorted)"
   ]
  },
  {
   "cell_type": "code",
   "execution_count": 8,
   "id": "3aa78079",
   "metadata": {},
   "outputs": [
    {
     "name": "stdout",
     "output_type": "stream",
     "text": [
      "Cipher text : nrstymjwjytgjujwkjhynrmjwjytgjwjfqqfidlflf\n",
      "Decrypted message : imnotheretobeperfectimheretoberealladygaga\n",
      "\n"
     ]
    }
   ],
   "source": [
    "decryptionAttempt = \"\"\n",
    "for ch in ciphertext1:\n",
    "    decryptionAttempt= decryptionAttempt + possibleDecryption[ch]\n",
    "    \n",
    "print(f\"Cipher text : {ciphertext1}\")\n",
    "print(f\"Decrypted message : {decryptionAttempt}\\n\")"
   ]
  },
  {
   "cell_type": "markdown",
   "id": "590748ad",
   "metadata": {},
   "source": [
    "--------\n",
    "\n",
    "## Challenge 2 - substitution cipher\n",
    "--------\n"
   ]
  },
  {
   "cell_type": "code",
   "execution_count": 9,
   "id": "42ae3ff2",
   "metadata": {},
   "outputs": [],
   "source": [
    "ciphertext2 = \"bljjubbcbzteqczfdqfcdlvucbzteqfefdcecbeyujtlvfwuetjtzeczlueyfejtlzebsczbetzjylvjycdd\""
   ]
  },
  {
   "cell_type": "markdown",
   "id": "6706801f-42a8-4ad9-8561-4281aca2f579",
   "metadata": {},
   "source": [
    "#### Kgrams analysis:\n",
    "\n",
    "Breaking a substitution cipher using k-gram analysis involves studying the patterns of groups of characters in the encoded message. Instead of looking at individual letters, we involve analyzing the frequency distribution of k-grams (sequences of k consecutive characters) in the ciphertext. \n",
    "By comparing the frequencies of these sequences in the encoded message to what we would expect in a normal text, we can make educated guesses about the substitutions made by the cipher. This analysis helps us uncover the most likely replacements for each sequence and gradually decipher the entire message.\n",
    "\n",
    "*For measuring the quality of a decrypted text, we will use logarithmic text fitness (measure of the suitability or relevance of a piece of text based on the occurrence of specific patterns or sequences within it) It involves assigning a logarithmic score (of frequency of some k-gram) to these patterns to quantify their significance in evaluating the overall fitness or quality of the text.*"
   ]
  },
  {
   "cell_type": "code",
   "execution_count": 10,
   "id": "bfb77d8e",
   "metadata": {},
   "outputs": [],
   "source": [
    "naturalLanguageAnalysis = cm.KGramAnalysis(textToAnalize=sampleNaturalLanguage, k=4)\n",
    "fitnessTable, floorFitness = naturalLanguageAnalysis.calculateLogarithmicFitnessTable()"
   ]
  },
  {
   "cell_type": "code",
   "execution_count": 11,
   "id": "9bba9ab6-16d4-4fad-a28a-57b9a60b3a60",
   "metadata": {},
   "outputs": [
    {
     "name": "stdout",
     "output_type": "stream",
     "text": [
      "-7.291870352977305\n"
     ]
    }
   ],
   "source": [
    "print(floorFitness)"
   ]
  },
  {
   "cell_type": "code",
   "execution_count": 12,
   "id": "b980cd6a",
   "metadata": {},
   "outputs": [
    {
     "data": {
      "text/plain": [
       "-155.32905885823183"
      ]
     },
     "execution_count": 12,
     "metadata": {},
     "output_type": "execute_result"
    }
   ],
   "source": [
    "naturalLanguageAnalysis.fitnessMeasure('A mad dog is nothing more but a wicked creature.', fitnessTable, floorFitness)"
   ]
  },
  {
   "cell_type": "code",
   "execution_count": 13,
   "id": "dd81822a",
   "metadata": {},
   "outputs": [
    {
     "data": {
      "text/plain": [
       "-588.1643773364416"
      ]
     },
     "execution_count": 13,
     "metadata": {},
     "output_type": "execute_result"
    }
   ],
   "source": [
    "naturalLanguageAnalysis.fitnessMeasure(ciphertext2, fitnessTable, floorFitness)"
   ]
  },
  {
   "cell_type": "code",
   "execution_count": 14,
   "id": "640f243f-cf2b-41a6-8b55-9422c4553817",
   "metadata": {},
   "outputs": [],
   "source": [
    "def encryptMessage(message: str, publicKey: list[int], alphabet: list[str]) -> str:\n",
    "    message_lowercase = message.lower()\n",
    "    ciphertext = \"\"\n",
    "\n",
    "    for i in message_lowercase:\n",
    "        if(i == \" \"):\n",
    "            ciphertext = ciphertext + \" \"\n",
    "        elif (i not in alphabet):\n",
    "            continue\n",
    "        else:\n",
    "            nextChar = alphabet[publicKey[alphabet.index(i)]]\n",
    "            ciphertext = ciphertext + nextChar\n",
    "\n",
    "    return ciphertext\n",
    "\n",
    "def decryptMessage(ciphertext: str, privateKey: list[int], alphabet: list[str]) -> str:\n",
    "    return encryptMessage(ciphertext, privateKey, alphabet)"
   ]
  },
  {
   "cell_type": "markdown",
   "id": "9ac1fb3d-d6c6-48d9-ac65-7df6bf97065d",
   "metadata": {},
   "source": [
    "**We crack the substitution cipher by utilizing hill climbing:**\n",
    "an iterative optimization technique that starts with an initial solution and incrementally improves it by iteratively adjusting a single element to reach a better solution in terms of the given objective function.\n",
    "---------"
   ]
  },
  {
   "cell_type": "code",
   "execution_count": 15,
   "id": "96c01b0e-85b0-4afd-997f-5a6e6ef46f6c",
   "metadata": {},
   "outputs": [],
   "source": [
    "def crackSubstitutionCipher(cipher: str, kGramTools: cm.KGramAnalysis, alphabet: list[str], iterations: int = 100):\n",
    "    fitnessTable, floorFitness = kGramTools.calculateLogarithmicFitnessTable()\n",
    "    ciphertext = cm.lclear(cipher)\n",
    "    maxkey = list(range(0, len(alphabet)))\n",
    "    maxscore = -99e9\n",
    "    parentScore,parentKey = maxscore, maxkey\n",
    "    \n",
    "    for i in range(1, iterations):\n",
    "        random.shuffle(parentKey)\n",
    "        possiblePlaintext = decryptMessage(ciphertext, parentKey, alphabet)\n",
    "        parentScore = kGramTools.fitnessMeasure(possiblePlaintext, fitnessTable, floorFitness)\n",
    "        \n",
    "        count = 0\n",
    "        while count < 1000:\n",
    "            a = random.randint(0,25)\n",
    "            b = random.randint(0,25)\n",
    "            childKey = parentKey[:]\n",
    "            childKey[a],childKey[b] = childKey[b],childKey[a]\n",
    "            candidateDecryption = decryptMessage(ciphertext, childKey, alphabet)\n",
    "            childScore = kGramTools.fitnessMeasure(candidateDecryption, fitnessTable, floorFitness)\n",
    "            if childScore > parentScore:\n",
    "                parentScore = childScore\n",
    "                parentKey = childKey[:]\n",
    "                count = 0\n",
    "            count += 1\n",
    "        \n",
    "        if parentScore > maxscore:\n",
    "            maxscore,maxkey = parentScore,parentKey[:]\n",
    "            print('\\nbest score so far:',maxscore,'on iteration',i)\n",
    "            ss = decryptMessage(ciphertext, maxkey, englishAlphabet)\n",
    "            print('    best key: '+''.join(str(maxkey)))\n",
    "            print('    plaintext: '+ss)\n",
    "    \n",
    "    return maxkey"
   ]
  },
  {
   "cell_type": "code",
   "execution_count": 16,
   "id": "375014f0-e1a3-424c-a149-f06c5621e3c6",
   "metadata": {},
   "outputs": [
    {
     "name": "stdout",
     "output_type": "stream",
     "text": [
      "\n",
      "best score so far: -395.62290368753384 on iteration 1\n",
      "    best key: [16, 13, 8, 11, 4, 7, 1, 23, 2, 0, 6, 14, 9, 10, 21, 25, 22, 15, 3, 17, 12, 5, 20, 24, 18, 19]\n",
      "    plaintext: noaamnnintrewithlwhilofmintrewhehlieinesmarofhumerarteitomeshearotenditnertasofasill\n",
      "\n",
      "best score so far: -347.62564780904216 on iteration 6\n",
      "    best key: [22, 18, 8, 11, 19, 0, 9, 1, 3, 2, 23, 20, 21, 16, 10, 24, 12, 25, 5, 14, 4, 17, 6, 15, 7, 13]\n",
      "    plaintext: successisnotminalmailureisnotmatalitisthecouragetocontinuethatcountsfinstonchurchill\n"
     ]
    }
   ],
   "source": [
    "decryptionKey = crackSubstitutionCipher(ciphertext2, naturalLanguageAnalysis, englishAlphabet)"
   ]
  },
  {
   "cell_type": "code",
   "execution_count": 17,
   "id": "ff00c771-1f01-4db9-9722-771ce20a3515",
   "metadata": {},
   "outputs": [
    {
     "data": {
      "text/plain": [
       "'successisnotminalmailureisnotmatalitisthecouragetocontinuethatcountsfinstonchurchill'"
      ]
     },
     "execution_count": 17,
     "metadata": {},
     "output_type": "execute_result"
    }
   ],
   "source": [
    "decryptMessage(ciphertext2, decryptionKey, englishAlphabet)"
   ]
  },
  {
   "cell_type": "markdown",
   "id": "d7cae8ff-7c39-4d05-8fd3-b06b6d2152f7",
   "metadata": {},
   "source": [
    "*Hill climbing might not guarantie 100% accuracy of the decryption (due to small ciphertext size). But we now we can clearly see the words.*\n",
    "\n",
    "**Result:** \"Success is not final, failure is not fatal. It's the courage to continue that counts. - Winston Churchill\""
   ]
  },
  {
   "cell_type": "markdown",
   "id": "c81a5275-98a4-4959-8a29-fadbc1f03bd1",
   "metadata": {},
   "source": [
    "--------\n",
    "\n",
    "## Challenge 3 - Vigenere cipher\n",
    "--------\n",
    "1) Firstly we will use index of coincidence for each 2nd, 3rd,..., k-th characters in the ciphertext to find out the most probable keyword length (The index of coincidence is a measure used in cryptography to assess the likelihood of two randomly selected letters in a ciphertext being the same, indicating the presence of a substitution cipher)\n",
    "2) Next we will treat each subsequences of k-th characters as different Ceasar's ciphertexts and use frequency analysis to decrypt them:"
   ]
  },
  {
   "cell_type": "code",
   "execution_count": 18,
   "id": "a54ce03c-78ba-426b-9971-a3115c3b970d",
   "metadata": {},
   "outputs": [],
   "source": [
    "ciphertext3 = \"sakkgpsaizumivvzteuhioztpvbzxezvtrmgibniazcfxxunkfbnqriyqbqdegmjpyfrixzaqrlkpweelkpweelcmseactgsyntzqdhljkmrkvnzqdavbnfhinjoxixlbufhmasrqavaitpfirtkyoxvwtelmxmgtuqnvhqirtpktahnavqcmntoztiemyfirpwjqsealidytgwmdatugyberqqtscshvzxewfpugrwrfvxovvvmfhisiyoirnbozgabzrpojfmidexzmyeakrauzehngkpweelyfuqotkputbvgzarpqkztfbwqangegvfarnteeiwvvztezvtrmgiyqhdavlbnqbsbscmsjvtrqdavbnyywgmxuoyfkupewnvjoitumxearqbnqtiqleneeenkxtefcjperhzmqtshvxmviybnqsipzkfslvljqnavbnunlrjudrsjmjfhiowuwarqjksargwyfuhlqziixunkdviabjqdmpizuor\""
   ]
  },
  {
   "cell_type": "code",
   "execution_count": 19,
   "id": "997496dd-be53-4a74-82b3-c86709854fdb",
   "metadata": {},
   "outputs": [],
   "source": [
    "from collections import Counter\n",
    "import string\n",
    "\n",
    "def compute_ic(text, alphabet):\n",
    "    text = cm.lclear(text)\n",
    "    counts = Counter(c for c in text if c in alphabet)\n",
    "    total = sum(counts.values())\n",
    "    ic = sum(n * (n - 1) for n in counts.values()) / (total * (total - 1))\n",
    "    ic *= 26\n",
    "    return ic"
   ]
  },
  {
   "cell_type": "code",
   "execution_count": 20,
   "id": "6a04ff08-b8dc-42a3-9807-cacdeeeaf66e",
   "metadata": {},
   "outputs": [
    {
     "data": {
      "text/plain": [
       "1.0513334100763592"
      ]
     },
     "execution_count": 20,
     "metadata": {},
     "output_type": "execute_result"
    }
   ],
   "source": [
    "compute_ic(ciphertext3, englishAlphabet)"
   ]
  },
  {
   "cell_type": "code",
   "execution_count": 21,
   "id": "dcbfff24-9862-441b-bda9-fba538d4dcf9",
   "metadata": {},
   "outputs": [
    {
     "name": "stdout",
     "output_type": "stream",
     "text": [
      "[(12, 1.6835075493612077), (6, 1.6677871148459384), (18, 1.6164021164021165), (3, 1.2766214177978885), (9, 1.2587301587301587), (15, 1.229708853238265), (14, 1.2056689342403628), (2, 1.1625135093407442), (19, 1.1578947368421055), (4, 1.1568553930758658), (17, 1.1391480730223122), (16, 1.1252688172043013), (8, 1.118279569892473), (10, 1.1154509803921566), (20, 1.0963333333333336), (13, 1.0796221322537112), (11, 1.0322353974527887), (5, 1.015569792273345), (7, 1.0133724722765818)]\n"
     ]
    }
   ],
   "source": [
    "possibleKeyLengths = []\n",
    "\n",
    "for keyLength in range(2, 21):\n",
    "    indexes = []\n",
    "    for shift in range(0, keyLength):\n",
    "        lengthOfSubstring = len(ciphertext3) // keyLength\n",
    "        charsToAnalyse = \"\".join([ciphertext3[keyLength*i + shift] for i in range(0, lengthOfSubstring)])\n",
    "        indexOfCoincidence = compute_ic(charsToAnalyse, englishAlphabet)\n",
    "        indexes.append(indexOfCoincidence)\n",
    "    averageIndex = sum(indexes)/len(indexes)\n",
    "    possibleKeyLengths.append((keyLength, averageIndex))\n",
    "\n",
    "possibleKeyLengths.sort(key = lambda x: x[1], reverse=True)\n",
    "print(possibleKeyLengths)"
   ]
  },
  {
   "cell_type": "code",
   "execution_count": 22,
   "id": "c096c4c3-aeb6-467f-89bd-78f748e48c70",
   "metadata": {},
   "outputs": [
    {
     "data": {
      "text/plain": [
       "1.6893451023928967"
      ]
     },
     "execution_count": 22,
     "metadata": {},
     "output_type": "execute_result"
    }
   ],
   "source": [
    "compute_ic(sampleNaturalLanguage, englishAlphabet)"
   ]
  },
  {
   "cell_type": "markdown",
   "id": "54616c5b-6bc9-4289-ac03-6ef1c0b0ab11",
   "metadata": {},
   "source": [
    "**Maximal index of coincidence was calculated for 6, 12, 18**, each of those is divisible by 6.\n",
    "\n",
    "**Assumption: keyword length = 6**\n",
    "\n",
    "-------"
   ]
  },
  {
   "cell_type": "code",
   "execution_count": 23,
   "id": "7f630c89-1264-4b56-a0b6-3fa4fe3d90fb",
   "metadata": {},
   "outputs": [],
   "source": [
    "keyLength = 6\n",
    "frequencyTables = []\n",
    "\n",
    "for shift in range(0, keyLength):\n",
    "    lengthOfSubstring = len(ciphertext3) // keyLength\n",
    "    charsToAnalyse = \"\".join([ciphertext3[keyLength*i + shift] for i in range(0, lengthOfSubstring)])\n",
    "\n",
    "    frequencyTableChipher = cm.getFrequencyTable(charsToAnalyse, englishAlphabet)\n",
    "    cipherTextFrequenciesSorted = list(frequencyTableChipher.items())\n",
    "    cipherTextFrequenciesSorted.sort(key = lambda x: x[1], reverse = True)\n",
    "    frequencyTables.append(cipherTextFrequenciesSorted)"
   ]
  },
  {
   "cell_type": "code",
   "execution_count": 24,
   "id": "a9c158b9-7b7f-4926-96d2-67617d430236",
   "metadata": {},
   "outputs": [
    {
     "data": {
      "image/png": "[encoded data removed]",
      "text/plain": [
       "<Figure size 720x576 with 2 Axes>"
      ]
     },
     "metadata": {
      "needs_background": "light"
     },
     "output_type": "display_data"
    }
   ],
   "source": [
    "fig, (ax1, ax2) = plt.subplots(2, 1, figsize=(10,8))\n",
    "\n",
    "ax1.bar(\n",
    "    list(map(lambda x: x[0] ,naturalLanguageFrequenciesSorted)),\n",
    "    list(map(lambda x: x[1] ,naturalLanguageFrequenciesSorted)),\n",
    "    color=\"tab:green\"\n",
    ")\n",
    "ax1.set(title=\"Natural Language Sample\")\n",
    "ax2.bar(\n",
    "    list(map(lambda x: x[0] ,frequencyTables[5])),\n",
    "    list(map(lambda x: x[1] ,frequencyTables[5])),\n",
    "    color=\"tab:orange\"\n",
    ")\n",
    "ax2.set(title=\"Ciphertext\")\n",
    "plt.show()"
   ]
  },
  {
   "cell_type": "code",
   "execution_count": 25,
   "id": "cc24567f-0234-4638-a57d-23c4c142fbd0",
   "metadata": {},
   "outputs": [
    {
     "data": {
      "image/png": "[encoded data removed]",
      "text/plain": [
       "<Figure size 648x648 with 1 Axes>"
      ]
     },
     "metadata": {
      "needs_background": "light"
     },
     "output_type": "display_data"
    }
   ],
   "source": [
    "alphabetImage = np.asarray(Image.open(\"./statics/alphabet.png\"))\n",
    "plt.figure(figsize = (9,9))\n",
    "plt.imshow(alphabetImage)\n",
    "plt.show()"
   ]
  },
  {
   "cell_type": "markdown",
   "id": "8c2697cb-e8eb-4f70-8372-654cb9f1b22c",
   "metadata": {},
   "source": [
    "------\n",
    "From frequency analysis of each subsequence of 0th,1st, 2nd...5th characters and looking for most possible shifts (these procedure was shown above only for one of such substrings + in ome cases one needs to use k-gram's analysis additionally).\n",
    "\n",
    "**We make an assumtion that the key is:** (4, 9, 19, 6, 11, 0).\n",
    "Further we will look at the text and try to find words, correct them and hence improve our decryption key. "
   ]
  },
  {
   "cell_type": "code",
   "execution_count": 26,
   "id": "4e4856d3-8508-4825-94c2-cb61abe2799f",
   "metadata": {},
   "outputs": [],
   "source": [
    "def decryptVigenere(cipher: str, key: list[int], alphabet: list[str]):\n",
    "    ciphertext = cm.lclear(cipher)\n",
    "    plaintext = \"\"\n",
    "    for count, char in enumerate(ciphertext):\n",
    "        position = alphabet.index(char)\n",
    "        currentPositionInKey = count % len(key)\n",
    "        newChar = alphabet[(position - key[currentPositionInKey]) % len(alphabet)]\n",
    "        plaintext += newChar\n",
    "    return plaintext"
   ]
  },
  {
   "cell_type": "code",
   "execution_count": 27,
   "id": "29d37dd5-c27e-4ca1-ae1c-c32f00272b55",
   "metadata": {},
   "outputs": [
    {
     "name": "stdout",
     "output_type": "stream",
     "text": [
      "orrevporptjmemctieqypiotlmitmevmalbgesucpzywerjngwihfrepxvfdaxtdeybiproamiseewavseewavswbsarjnvsueatfddcqebrgmutfdwmihuheeqimitciouhirzlfarrpnefeiaenotmdntliotaiumecbfinkweiadehpfcieaiotevtsuingddfsarscsypxdgsaplnsqenhxnhcoyctmeswwovrsimpmormcguhejpsdineiiogwsgleofwtcsetqtstagihooedeneewavssuumfaeeupscaoangxeotbsdkpncvnpuaneaytismctievmalbgepxbsarcihfboszwbsfmalfdwmihnysxtrjouwroeesecddipltrtanhihftehsyceavuemtawjdeenyggftoycrbvepihfseggeushmsdfnwmihjnhiqosroatduhefdolanhqehanxdsuudcxtxitluesveridfdigptjon\n"
     ]
    }
   ],
   "source": [
    "print(decryptVigenere(ciphertext3, [4, 9, 19, 6, 11, 0], englishAlphabet))"
   ]
  },
  {
   "cell_type": "markdown",
   "id": "f7b9e29f-2139-4b4d-8db0-b15bd338ec2e",
   "metadata": {},
   "source": [
    "\"tjme\" looks like \"time\", so lets change the corresponding shift in our decryption key:"
   ]
  },
  {
   "cell_type": "code",
   "execution_count": 28,
   "id": "5264c0f5-c07e-43e4-8e06-048ab009b86a",
   "metadata": {},
   "outputs": [
    {
     "name": "stdout",
     "output_type": "stream",
     "text": [
      "orreuporptimemctheqypintlmitlevmalagesucozyweringwiherepxvedaxtddybiprnamisedwavsedwavswasarjnusueateddcqeargmutedwmihtheeqilitciothirzlearrpndfeiaemotmdnsliotahumecbeinkwehadehpecieaintevtstingddesarscrypxdgraplnspenhxngcoyctleswwoursimplormcgthejpscineiingwsgldofwtcretqtssagihonedenedwavsstumfaedupscanangxentbsdkoncvnptaneaysismcthevmalagepxbrarciheboszwasfmaledwmihmysxtriouwrodesecdcipltrsanhihetehsybeavueltawjddenyggetoycravepiheseggetshmsdenwmihinhiqorroatdthefdokanhqeganxdstudcxtwitluerveridedigption\n"
     ]
    }
   ],
   "source": [
    "print(decryptVigenere(ciphertext3, [4, 9, 19, 6, 12, 0], englishAlphabet))"
   ]
  },
  {
   "cell_type": "markdown",
   "id": "f5b1b11f-bfe6-445c-84a0-23de9fa6710e",
   "metadata": {},
   "source": [
    "\"orreuporptime\" looks like \"onceuponatime\"..."
   ]
  },
  {
   "cell_type": "code",
   "execution_count": 29,
   "id": "9072b02d-5b84-4686-8cfa-e158b15c6b8d",
   "metadata": {},
   "outputs": [
    {
     "data": {
      "text/plain": [
       "'onceuponatimeinthequaintlittlevillageofcozyspringstherelivedateddybearnamededwardedwardwasanunusualteddybeargiftedwiththeabilitytothinklearnandfeelemotionslikeahumanbeinghehadaspecialinterestincodesandcryptographyspendingcountlesshoursexploringthefascinatingworldofsecretmessagesonedayedwardstumbleduponanancientbookoncryptanalysisinthevillagelibrarythebookwasfilledwithmysteriouscodesandciphersandtheteddybearfeltasuddenurgetounravelthesecretshiddenwithinheborrowedthebookandbegantostudyitwithferventdedication'"
      ]
     },
     "execution_count": 29,
     "metadata": {},
     "output_type": "execute_result"
    }
   ],
   "source": [
    "decryptVigenere(ciphertext3, [4, 13, 8, 6, 12, 0], englishAlphabet)"
   ]
  },
  {
   "cell_type": "code",
   "execution_count": 30,
   "id": "c92ac8d8-5231-4936-804f-9df31f2eca41",
   "metadata": {},
   "outputs": [
    {
     "name": "stdout",
     "output_type": "stream",
     "text": [
      "Code word is : enigma\n"
     ]
    }
   ],
   "source": [
    "print(f\"Code word is : {''.join(englishAlphabet[i] for i in [4, 13, 8, 6, 12, 0])}\")"
   ]
  },
  {
   "cell_type": "markdown",
   "id": "56af7a21-588c-4cdd-8979-8e9cf463d100",
   "metadata": {},
   "source": [
    "--------\n",
    "\n",
    "## Challenge 4 - Playfair cipher\n",
    "--------\n",
    "Here we will use hill climbing with simulated annealing modification - a variant of hill climbing that allows for occasional \"downhill\" moves to avoid getting stuck in local optima and explore a wider solution space."
   ]
  },
  {
   "cell_type": "code",
   "execution_count": 31,
   "id": "b068a576-27f0-487f-a35d-121bb99b0450",
   "metadata": {},
   "outputs": [],
   "source": [
    "ciphertext4 = \"feormfrqnvkcevislvshnwhfqeeafazcnotodfpknizphqsxetiqleioftaihpaiadovetqgiaetikaiwhxqztbhuscwbmaigfckovdhadqaganvagwehoctnadanvpcaivnansmdaovsefencwsnonmlweflyzcghxwbeafryrbrhmbwbovimfiafcftoafrhetdbxgmxhqsrniemagflrsflafhqodfltzczailwefhmgofiovncveztoihomrqefotzcttadhagwdzcfinvkcdoeaetiqfeguogrsaievoiorryhqrsniikeaovghmsfnomoiglvswhnokzafwcagryagfltzcisxqkovmosbghaiveowqefanvecvgfkomzgqecfzczcioctdkaftetocvsbxwetqbovimghevoiabipdxswioradahnniemkevkndrkniantaghevoirqrsudetifvgryagdafencowagzcfdmwymnimfgatfnictryhqmxfydbgafeormformginfahdvniklvkowlnkaigdvoollefdpkaicwlncrtircrhhrdenclwpkhevovotodfpkagwhinzcioleforhvkcdndovzsiamenvlwvkniafglfgwanoagdaetdbzvqawoaocofnvuucinmrzievmyadimghnafaxbmnetiqacydczevfvnanvetesagflrsgmhnhnctmggaqmwhgccoetignafaghmcvbvotfionepxrnfasvlvqeidmwvoadkddcuqveltfeevctmgwvwacdbuorhrrbfvinlzhflvbqfhobacmrglfghfnvefefflrsedtarntffaztadryhmiameveztoiimghsoagtofgawhkaizewuomifovimmefswbtoevoiapfeewsmfapwdfke\""
   ]
  },
  {
   "cell_type": "code",
   "execution_count": 33,
   "id": "fdd25768-4aea-4785-88b7-59d67b39c819",
   "metadata": {},
   "outputs": [
    {
     "name": "stdout",
     "output_type": "stream",
     "text": [
      "-6831.799437817204\n",
      "[['A', 'F', 'C', 'D', 'E'], ['B', 'G', 'H', 'T', 'K'], ['L', 'M', 'N', 'O', 'P'], ['Q', 'R', 'S', 'I', 'U'], ['V', 'W', 'X', 'Y', 'Z']]\n",
      "ADMIGWQULXHEAZSRBQNCMXGCUADEAEXEMNDTCAKEOSUKBSNSDKSUPAOTDGDQKNDQECLYDKRBQDDKUTDQXGVSYKKGIRFXGLDQFWEHLYCTECLVBFLXFBZFTNDHLCCELXNEDQXLCLRNCELYUCADHXXRMN\n",
      "-6817.325494125173\n",
      "[['A', 'F', 'C', 'D', 'L'], ['B', 'G', 'H', 'T', 'K'], ['E', 'M', 'N', 'O', 'P'], ['Q', 'R', 'S', 'I', 'U'], ['V', 'W', 'X', 'Y', 'Z']]\n",
      "AMMIGWQUEXHLBQSRAZNCMXGCEBBVALXLMNDTCAKLOSUKBSNSOBSUAPOTDGDQKNDQLCEYOBRBQDOBUTDQXGVSYKKGIRFXGEDQFWLHEYCTLCEVBFEXFBVMTNDHECCLEXNLDQXECERNCLEYQNAMHXXRMN\n",
      "-6810.125763424042\n",
      "[['A', 'F', 'C', 'D', 'L'], ['B', 'G', 'H', 'T', 'K'], ['E', 'M', 'Y', 'O', 'P'], ['Q', 'R', 'S', 'I', 'U'], ['V', 'W', 'X', 'N', 'Z']]\n",
      "AMMIGWQUXZHLBQSRAZYCXVGCEBBVALXLITDTCAKLIOUKBSYSOBSUAPOTDGDQKYDQLCENOBRBQDOBUTDQXGVSNKKGIRFXGEDQFWLHENCTLCEVBFXZFBVMTYDHVDCLXZYLDQZXDVRYCLENQYAMXDXRIT\n",
      "-6776.948024310871\n",
      "[['A', 'F', 'C', 'D', 'L'], ['B', 'G', 'H', 'T', 'K'], ['E', 'Q', 'Y', 'O', 'P'], ['M', 'R', 'S', 'I', 'U'], ['V', 'W', 'X', 'N', 'Z']]\n",
      "AQQIRAQGXZHLBMSRAZYCXVGCEPBVALXLITDTCAKLIOUKGYYSOBROAPOTDGDMKYDMLCENOBGFMDOBUTDMXGWYNKKGIRFXAEDMFWLHENCTLCEFBFXZFBVQTYDHVDCLXZYLDMZXDVRUCLENMYAQXDXRIT\n",
      "-6767.577736406819\n",
      "[['A', 'F', 'C', 'D', 'L'], ['B', 'G', 'R', 'T', 'K'], ['E', 'Q', 'Y', 'O', 'P'], ['M', 'H', 'S', 'I', 'U'], ['V', 'W', 'X', 'N', 'Z']]\n",
      "AQYTHAGYXZRLBMSHAZHMXVQWEPBVALXLITDTCAKLIOUKQGYSOBHOAPOTDGDMUQDMLCENOBGFMDOBUTDMHQWYNKGMIHFXAEDMFWLRENFILCEFBFXZFBVQIQDRVDCLXZYLDMZXDVHUCLENMYAQXDXHIT\n",
      "-6765.419878068267\n",
      "[['A', 'F', 'C', 'D', 'L'], ['B', 'U', 'R', 'T', 'K'], ['E', 'Q', 'Y', 'O', 'P'], ['M', 'H', 'S', 'I', 'G'], ['V', 'W', 'X', 'N', 'Z']]\n",
      "AQYTHAUYXZRLBMSHAZHMXVQWEPBVALXLITDTCAKLIOGKQUYSOBHOAPOTDUDMGQDMLCENOBPHMDOBGTDMHQWYNKUMRHFXAEDMHLLRENFILCEFMLXZLMVQIQDRVDCLXZYLDMZXDVHGCLENMYAQXDXHIT\n",
      "-6614.444504891169\n",
      "[['A', 'F', 'C', 'E', 'L'], ['B', 'U', 'R', 'T', 'K'], ['D', 'Q', 'Y', 'O', 'P'], ['M', 'H', 'S', 'I', 'G'], ['V', 'W', 'X', 'N', 'Z']]\n",
      "ACYTHAUYXZRLANSHAZHMXVQWOFCLALXLITETQAKLIOGKQUYSNEHOECOTEUEMGQEMVBDNNEPHMENEGTEMHQWYNKUMRHFXADEMHLLRDNQMVBDFMLXZLMNFIQERVEBVXZYLEMZXEVHGBVDNICACXEXHIT\n",
      "-6612.133815124617\n",
      "[['A', 'F', 'C', 'E', 'L'], ['B', 'U', 'R', 'W', 'K'], ['D', 'Q', 'X', 'O', 'P'], ['M', 'H', 'S', 'I', 'G'], ['V', 'T', 'Y', 'N', 'Z']]\n",
      "ACXWHAUXYZRLANSHAZHMIEQTOFCLALYLIWNQQAKLIOGKQUXRFNHOECOWTHEMGQEMVBDNFNPHMEFNGWEMUIQDNVUMRHERADEMHLLRDNQMVBDFMLYZLMENIQFYVEBVYZXLEMZYEVHGBVDNICACYERIIW\n",
      "-6603.462936546288\n",
      "[['A', 'F', 'C', 'E', 'L'], ['B', 'U', 'R', 'W', 'K'], ['D', 'Q', 'X', 'O', 'P'], ['M', 'T', 'S', 'I', 'G'], ['V', 'H', 'Y', 'N', 'Z']]\n",
      "ACXWTAUXYZRLANSTAZTYIETHOFCLALYLIWIQQAKLIOGKTUXRFITOECOWHQEMZQEMVBDNFIPTMEFIGWEMUNQDHGUVRTERADEMTLLRDNQVVBDFMLYZLMENNQFSVEBVYZXLEMZYEVTGBVDNICACYERIIW\n",
      "-6597.323770177005\n",
      "[['A', 'F', 'C', 'E', 'L'], ['G', 'U', 'R', 'V', 'K'], ['D', 'Q', 'H', 'O', 'P'], ['W', 'T', 'S', 'I', 'B'], ['M', 'X', 'Y', 'N', 'Z']]\n",
      "ACHVXAUHIERLNESTEKHRMIQCOFCLALYLIVIQQAKLIOBKQDTYFITOECOVXQEWQOEWMGVEFIDUWEFIBVEWSDTUXBSPRTASWZEWUALRVEPQMGDFAMIEMAIAQHFSMEGMIEHLEWEIEMWYGMVEICACYEBTIV\n",
      "-6586.648644809889\n",
      "[['A', 'F', 'C', 'E', 'L'], ['G', 'U', 'R', 'V', 'K'], ['N', 'Q', 'H', 'O', 'P'], ['W', 'T', 'S', 'I', 'B'], ['M', 'X', 'Y', 'D', 'Z']]\n",
      "ACHVXAUHOGRLDESTEKHRGNQCOFCLALYLPHIQXEKLOWBKQNTYFITOECOVXQEWQOEWEMVEFINUWEFIBVEWSNTUXBSPRTASWZEWUALRVEYOEMNFAMOGMAIAQHFSGMMEOGHLEWGOMGWYMEVEICACHABTPH\n",
      "-6579.622376504039\n",
      "[['A', 'F', 'C', 'E', 'L'], ['G', 'U', 'R', 'V', 'Z'], ['N', 'Q', 'H', 'O', 'P'], ['W', 'T', 'S', 'I', 'B'], ['M', 'X', 'Y', 'D', 'K']]\n",
      "ACHVXAUHOGYLDESTEZHRGNQCOFCLALRLPHIQXEZBOWLZQNTYFITOECOVXQEWQOEWEMVEFINUWEFIBDEWSNTUUBSPRTASWKEWUALYVEYOEMNFAMOGMAIAQHFSGMMEOGHLEWGOMGWYMEVEICACHABTPH\n",
      "-6575.913063699269\n",
      "[['A', 'F', 'C', 'E', 'L'], ['G', 'U', 'R', 'V', 'Z'], ['N', 'Q', 'H', 'O', 'P'], ['W', 'T', 'S', 'I', 'B'], ['M', 'K', 'Y', 'D', 'X']]\n",
      "ACHVKAUHOGYFDESTEZHRGNQCOFCLALRLPHIQKEQXOWLZQNBYFITOECOVKQEWQOEWEMVEFINUWEFITDEWSNKPUBSPRTASWXEWUAFYVEYOEMNFAMOGMAIAQHFSGMMEOGHLEWGOMGWYMEVEICACHABTPH\n",
      "-6567.24151079204\n",
      "[['A', 'F', 'C', 'E', 'L'], ['U', 'Y', 'R', 'V', 'Z'], ['N', 'S', 'H', 'O', 'P'], ['W', 'T', 'G', 'I', 'B'], ['M', 'K', 'Q', 'D', 'X']]\n",
      "ACHVKACGOUQFDETOEZNSUNSCDCCLALRLPHISKESXOWLZRGPKFIGDECOVKSEWSOEWEMVEFIGHWEFITDEWGNDKYBGPYNAGWXEWTCFQVEQOEMMCWCOUCWIASHFGUMMEOUHLEWUOMUNKMEVEOFACHATNPH\n",
      "-6551.019400175894\n",
      "[['A', 'F', 'C', 'E', 'D'], ['U', 'Y', 'B', 'V', 'Z'], ['N', 'P', 'R', 'O', 'Q'], ['T', 'L', 'G', 'I', 'S'], ['M', 'K', 'X', 'W', 'H']]\n",
      "ACRPKAPOOUXFWEGIIYQSOMKDODCDADBDQRINEAYLOTYQSZGHAISOIFOVALETKQETDEVEAIRSTEAILWETXWHRUSZXZTEXUXETLCFXVEHSDENDTCOUCTIWWQAGUMEDOURFETUOMUTHEDVEIDACRAHIQR\n",
      "-6489.171800758672\n",
      "[['A', 'F', 'C', 'E', 'D'], ['U', 'Y', 'B', 'V', 'Z'], ['N', 'P', 'R', 'O', 'Q'], ['T', 'L', 'G', 'I', 'S'], ['M', 'K', 'X', 'H', 'W']]\n",
      "ACRPKAPOOUXFHEGIIYIWQMKEODCDADBDQRINEAYLOTYQWOGWAISOIFOVALETKOETDEVEAIRSTEAILHETHXWRUSVXZTDXUXETLCFXVEEWDENDTCOUCTHDIVAGUMEDOURFETUOMUTWEDVEIDACRASQQR\n",
      "-6475.211713047487\n",
      "[['A', 'F', 'L', 'E', 'D'], ['R', 'C', 'P', 'V', 'U'], ['N', 'B', 'Z', 'O', 'Q'], ['T', 'Y', 'S', 'I', 'G'], ['M', 'X', 'K', 'H', 'W']]\n",
      "ALNVXAUNORXPHESYEPIKQMXEODLDADBPQZINEALSOTPLWOYKAIGOFLOVAYETKVETDEVEAIUQTEAISHETHKWBNSOXPGUXNXETYDPXVEEWDENDTDORDTHDIVRYRMEDORCRETROMRTKEDVEILALBRKGQZ\n",
      "-6455.739783656693\n",
      "[['A', 'F', 'L', 'E', 'D'], ['R', 'C', 'P', 'V', 'U'], ['N', 'B', 'X', 'O', 'Q'], ['T', 'Y', 'S', 'I', 'G'], ['M', 'Z', 'K', 'H', 'W']]\n",
      "ALNVZAUNORZPHESYEPIKQMZEODLDADYFQXINEALSOTKCWOXPAIGOFLOVAYETKVETDEVEAIUQTEAISHETHKBOMYOZPGUZNZETYDPZVEEWDENDTDORDTHDIVRYRMEDORCRETROMRTKEDVEILALBRKGQX\n",
      "-6443.063344516737\n",
      "[['A', 'D', 'G', 'E', 'F'], ['R', 'X', 'P', 'V', 'U'], ['N', 'B', 'C', 'O', 'Q'], ['T', 'Y', 'W', 'I', 'L'], ['M', 'Z', 'S', 'H', 'K']]\n",
      "EGNVKAUNORSQHEWHIUZSCTKEOFGFEFSBQCINAEUSOTSXKOZPAILOIFOVALETSVETFAVEAICFTEAILHETISUBMYOZPKPCNZETDEQSVEEZFANFDFORFDIGIVNWRMAFORGPETROMRZKAFVEHGEGQBCWQC\n",
      "-6425.704692114807\n",
      "[['A', 'D', 'G', 'E', 'F'], ['R', 'X', 'K', 'V', 'U'], ['N', 'B', 'C', 'O', 'Q'], ['T', 'Y', 'W', 'I', 'L'], ['M', 'Z', 'S', 'H', 'P']]\n",
      "EGNVPAUNORGKHEWHIUZSCTPEOFGFEFSBQCINAESUOTMHPOZKAILOIFOVALETSHETFAVEAICFTEAIWVETISUBMYOZKPKCNZETDEKGVEEZFANFDFORFDIGIVNWRMAFORSQETROMRZPAFVEHGEGQBCWQC\n",
      "-6421.25212548685\n",
      "[['O', 'N', 'G', 'E', 'A'], ['Z', 'W', 'U', 'K', 'Y'], ['S', 'B', 'Q', 'C', 'V'], ['D', 'R', 'M', 'I', 'T'], ['L', 'X', 'P', 'F', 'H']]\n",
      "IFNDIPMBABEKACDCHSVLXNFPCGGEHEKSOADAILFUERULPVBLAIMCFODEHIETFXETOTASAIUPTEAICEETYXPBYDVXZQBKQRETEPKEASTLOTVGNEABENKNLAVIOETOABFQETBAEOQDTOASCOIFEBZBOA\n",
      "-6400.261383086688\n",
      "[['O', 'N', 'G', 'E', 'A'], ['Z', 'W', 'Q', 'M', 'X'], ['S', 'P', 'U', 'C', 'V'], ['D', 'R', 'K', 'I', 'T'], ['L', 'Y', 'B', 'F', 'H']]\n",
      "IFNDEIKWAPIUACDCHSVLYNFBMGGEHEMSOADAILURERWSBXVZAIKMFODEHIETYVETOTASAIGBTEAIKRETXYMWXDYFPVPMFQETEBUIASTLOTXGNEAPENMNLAVIOETOAPSUETPAEOCZTOASCOIFEPZPOA\n",
      "-6397.695995936553\n",
      "[['O', 'N', 'G', 'E', 'A'], ['Z', 'W', 'Q', 'M', 'X'], ['S', 'P', 'U', 'C', 'V'], ['D', 'T', 'K', 'I', 'R'], ['L', 'Y', 'B', 'F', 'H']]\n",
      "IFADEIKXAPIUACDCHSVLYNFBMGGEHEMSOADNILUTETWSBXVZNIKMFODEYIERYVERORASNIGBRENIKTERXYMWWDYFPVPMFQEREBUIASRLORXGNEAPENMNLAPIOEROAPSUERPAEOCZROASCOIFEPZPOA\n",
      "-6388.359797057564\n",
      "[['O', 'N', 'G', 'E', 'A'], ['Z', 'U', 'Q', 'P', 'X'], ['S', 'M', 'W', 'C', 'V'], ['D', 'T', 'K', 'I', 'R'], ['L', 'Y', 'B', 'F', 'H']]\n",
      "IFADCYKXAMIWACDCHSVLGMFBPGGEHEPSOADNILQIETXQBXVZNIKPFODEYIERFXERORASNIGBRENIKTERVBPUUDYFZMWMYWEREBWIASRLORXGNEAMENCGLAMIOEROAMEPERMAEOVSROASCOIFEMMVOA\n",
      "-6361.301111859278\n",
      "[['O', 'D', 'G', 'E', 'A'], ['Z', 'U', 'Q', 'P', 'X'], ['S', 'M', 'W', 'C', 'V'], ['N', 'T', 'K', 'I', 'R'], ['L', 'Y', 'B', 'F', 'H']]\n",
      "IFANCYKXRSIWACNCHSVLKSFBPGGEHEPSSLNDEYQIRKXQBXVZDIKPFONEYIERFXEREOASDIGBREDIKTERVBPUUNYFZMWMYWEREBWIASAYEOXGDERSEDCGLAMIROOERSEPERSRORVSOEASCOIFISMVSL\n",
      "-6351.934602798502\n",
      "[['H', 'Q', 'C', 'L', 'N'], ['S', 'P', 'M', 'V', 'A'], ['I', 'B', 'D', 'G', 'E'], ['K', 'U', 'T', 'Z', 'F'], ['R', 'X', 'Y', 'W', 'O']]\n",
      "EAWOATXHLATHGASHWLHRLONKNBANENTLOFFYETSUHEUVNHPRDFBHNGERZUSEQSSEMEWADFLBESDFSISERLUXTUIQKPLYDPSEEZHTWAICMENPEVLAVEOGNRYDONEMLAMQSEALNOAPEMWAAIEALQRVOF\n",
      "-6277.433715987686\n",
      "[['H', 'Q', 'C', 'S', 'N'], ['L', 'P', 'M', 'V', 'A'], ['I', 'B', 'D', 'G', 'E'], ['K', 'U', 'T', 'Z', 'F'], ['R', 'X', 'Y', 'W', 'O']]\n",
      "EAWOATXHSATHGAGHAMCNSONKNBANENTSOFFYETLUHEUVNHQWDFBHAIERZULEQLLEMEWADFSBELDFLILERSUXTUIQZQSYDPLEEZHTWAICMENPEVSAVEOGNRYDONEMSAMQLEASNOCVEMWANGEASQZWOF\n",
      "-6252.068799682208\n",
      "[['H', 'B', 'C', 'S', 'N'], ['L', 'P', 'M', 'V', 'A'], ['I', 'Q', 'D', 'G', 'E'], ['K', 'U', 'T', 'Z', 'F'], ['R', 'X', 'Y', 'W', 'O']]\n",
      "EAWOATXISATHGAGHAMCNSONKIGANENTSOFFYETLUHEUVBIBWDFEIAIERZULEBLLEMEWADFIDELDFLILERSUPTUHNZBSYCPLEEZHTWAICMEEPEVSAVEOGNRYDONEMSAMBLEASNOCVEMWANGEASBZWOF\n",
      "-6240.907724719088\n",
      "[['H', 'B', 'C', 'S', 'N'], ['M', 'P', 'L', 'V', 'A'], ['I', 'Q', 'D', 'G', 'E'], ['K', 'U', 'T', 'Z', 'F'], ['R', 'X', 'Y', 'W', 'O']]\n",
      "EAWOAKXISATHGAGHPLCNSONKIGANENTSOFFYETMUHEUVBIBWDFEIADERZUMEBMMELEWADFIDEMDFMIMERSUPTUHNZBSYHPMEEZHTWAICLEEPEVSAVEOGNRYDONELSALBMEASNOHVELWANGEASBZWOF\n",
      "-6234.500511628111\n",
      "[['V', 'X', 'W', 'F', 'U'], ['L', 'Z', 'P', 'N', 'K'], ['C', 'Y', 'Q', 'T', 'B'], ['H', 'S', 'M', 'A', 'R'], ['I', 'G', 'D', 'E', 'O']]\n",
      "EARBAWMBLFLBIFGHVIHRPFAVTDATETLYKEBEEWZNLELZMCYGANDCNIOEENHEMLHEMEIUANYDEHANOLHEVMWYNYCRXRQVQRHEEXBLIUIMMETMESLFSEFDRIBQFTEMLFLQHEFLTFHSEMIUAGEALTXMKE\n",
      "-6208.609892275477\n",
      "[['U', 'X', 'C', 'F', 'V'], ['L', 'Z', 'P', 'N', 'K'], ['W', 'Y', 'Q', 'T', 'B'], ['H', 'S', 'M', 'A', 'R'], ['I', 'G', 'D', 'E', 'O']]\n",
      "EARBACMBKFPVOFGHKUHRLTAUTDATETPXKEBEECZNLELZMWYGANDWNIOEENHEMLHEMEROANYDEHANOLHELWCYNYWRXHUQQRHEEXVPROIMMETMESKFSETIRIFQFTEMKFCDHEFKTFHSEMROAGEAPFYHKE\n",
      "-6203.01493213312\n",
      "[['U', 'X', 'W', 'F', 'V'], ['L', 'Z', 'P', 'N', 'K'], ['C', 'Y', 'Q', 'T', 'B'], ['H', 'S', 'M', 'A', 'R'], ['I', 'G', 'D', 'E', 'O']]\n",
      "EARBAWMBKFLBOFGHKUHRPFAUTDATETLYKEBEEWZNLELZMCYGANDCNIOEENHEMLHEMEROANYDEHANOLHEUMWYNYCRXHQUQRHEEXBLROIMMETMESKFSEFDRIBQFTEMKFLQHEFKTFHSEMROAGEALTXMKE\n",
      "-6173.98373585027\n",
      "[['U', 'X', 'W', 'F', 'V'], ['L', 'Z', 'K', 'N', 'P'], ['C', 'Y', 'Q', 'T', 'B'], ['H', 'S', 'M', 'A', 'R'], ['I', 'G', 'D', 'E', 'O']]\n",
      "EARBAWMBPFLQOFGHPUHRKFAUTDATETLYPEBEEWNZLELNMCYGANDCNIOEENHERLHEMEROANYDEHANDLHEUMWYNYCRXHQUQRHEEXQLROIMMETMESPFSEFDRIBQFTEMPFLBHEFPTFHSEMROAGEALTXMPE\n",
      "-6170.213279494464\n",
      "[['U', 'X', 'P', 'F', 'V'], ['L', 'Z', 'K', 'N', 'W'], ['C', 'Y', 'Q', 'T', 'B'], ['H', 'S', 'M', 'A', 'R'], ['I', 'G', 'D', 'E', 'O']]\n",
      "EARBAPMBWFLQOFGHWUHRKNAUTDATETLYWEBEEPDPLEKXMCYGANDCNIOEENHEMUHEMEROANYDEHANDLHELRPYNYCRXHBLQRHEEXQLROIMMETMESWFSENORIBQFTEMWFUQHEFWTFHSEMROAGEALTZRWE\n",
      "-6166.069268558497\n",
      "[['U', 'X', 'P', 'O', 'V'], ['L', 'Z', 'K', 'N', 'W'], ['C', 'Y', 'Q', 'T', 'B'], ['H', 'S', 'M', 'A', 'R'], ['I', 'G', 'D', 'E', 'F']]\n",
      "EDVARDMBWOLQFOGHWUHRKNRITDATERLYOENEGEDPLEKXMCYGANDCNIEUEBHEMUHEMEPOANYDEHANDLHELRPYNYCRXHBLQRHEIEQLPOIMMETMESWOSENFAUBQOTEMWOUQHEOWTOHSEMPOAGEDLTZROE\n",
      "-6165.2613510608335\n",
      "[['B', 'X', 'U', 'O', 'L'], ['C', 'K', 'Z', 'N', 'W'], ['V', 'Y', 'Q', 'T', 'P'], ['H', 'S', 'M', 'A', 'R'], ['I', 'G', 'D', 'E', 'F']]\n",
      "EDLARDMPCTCWITGHBPHRZNRITDATERKWOENEGEYWCEWQMVYGANDVOFEBEPHERVHEMEBTANYDEHANGCHECRUYNQIVXMWNUHHEIEWCBTIMMETMESCTSENFABNVOTEMCTVWHETCTOHSEMBTAGEDZWKROE\n",
      "-6154.934231758656\n",
      "[['B', 'X', 'U', 'O', 'L'], ['C', 'Z', 'K', 'N', 'W'], ['V', 'Y', 'Q', 'T', 'P'], ['H', 'S', 'M', 'A', 'R'], ['I', 'G', 'D', 'E', 'F']]\n",
      "EDLARDMPCTZWITGHBPHRKNRITDATERCWOENEGEQWCEWYMVYGANDVOFEBEPHERVHEMEBTANYDEHANDCHECRUYNYIVXMWNUHHEIEWZBTIMMETMESCTSENFABNVOTEMCTVWHETCTOHSEMBTAGEDKWZROE\n",
      "-6091.184823195505\n",
      "[['B', 'X', 'U', 'O', 'L'], ['C', 'K', 'Z', 'N', 'W'], ['T', 'Y', 'Q', 'V', 'P'], ['H', 'S', 'M', 'A', 'R'], ['I', 'G', 'D', 'E', 'F']]\n",
      "EDLARDMPONCWANGHOPHRZNRIVDAVERKWOEVBGEYWCEWQMTYGIVDTOFEBIPHERTHEMEENIVYDEHIVGCHECRUYCQITXMWNUHHEIEWCENIMMEVMESONSENFABBCOVEMONTWHENOVOHSEMENAGEDZWKROE\n",
      "-6068.83076031235\n",
      "[['B', 'Y', 'U', 'O', 'L'], ['C', 'K', 'X', 'N', 'W'], ['T', 'Z', 'Q', 'V', 'P'], ['H', 'S', 'M', 'A', 'R'], ['I', 'G', 'D', 'E', 'F']]\n",
      "EDLARDMPONCWANGHOPHRXNRIVDAVERTKOEVBGEZWCETVMTMKIVDTOFEBIPHERTHEMEENIVZDEHIVGCHECRUXTPITYMWNUHHEIEWCENIMMEVMESONSENFABBCOVEMONTWHENOVOHSEMENAGEDXWKROE\n",
      "-5903.139888660742\n",
      "[['C', 'Y', 'P', 'O', 'X'], ['T', 'K', 'L', 'N', 'B'], ['W', 'Z', 'Q', 'V', 'U'], ['H', 'S', 'M', 'A', 'R'], ['I', 'G', 'D', 'E', 'F']]\n",
      "EDXARDMUONTYANGHNQHRTVRIVDAVERWYOENCGEYLTEQYMWRYINDWNDECIBHEMCHEMEENINZDEHINGTHETWPUWKTRZRITLRHEIEYTENIMMEVMESONSEVIACICOVEMONYXHENOVOHSEMENAGEDTOZHOE\n",
      "-5871.815074277206\n",
      "[['C', 'Y', 'P', 'O', 'X'], ['T', 'K', 'L', 'N', 'B'], ['W', 'Q', 'Z', 'V', 'U'], ['H', 'S', 'M', 'A', 'R'], ['I', 'G', 'D', 'E', 'F']]\n",
      "EDXARDSUONTYANGHNZHRTVRIVGAVERWPOENCGEYLTELDSWRYINGWNDECIBHEMCHEMEENINKSEHINGTHETWYUWLTRQRITLRHEIEYTENIMMEVSESONSEVIACICOVEMONYXHENOVOHSEMENAGEDTOQHOE\n",
      "-5844.350797274641\n",
      "[['C', 'Y', 'P', 'O', 'L'], ['T', 'K', 'X', 'N', 'B'], ['W', 'Q', 'Z', 'V', 'U'], ['H', 'S', 'M', 'A', 'R'], ['I', 'G', 'D', 'E', 'F']]\n",
      "EDLARDSUONTYANGHOUHRTVRIVGAVERWPOENCGEYXTEXDSWMKINGWOFECIBHEMCHEMEENINKSEHINGTHETWKZWXTRQRITXRHEIEYTENIMMEVSESONSEVIACICOVEMONYLHENOVOHSEMENAGEDTOQHOE\n",
      "-5796.285288667964\n",
      "[['C', 'Q', 'P', 'O', 'L'], ['T', 'K', 'X', 'N', 'B'], ['W', 'Y', 'Z', 'V', 'U'], ['H', 'S', 'M', 'A', 'R'], ['I', 'G', 'D', 'E', 'F']]\n",
      "EDLARDSLONTQANGHOUHRTVRIOGAVERWPOENCGEQXTEXDSCMKINGCOFECIBHEMCHEMEENINGSEHINGTHETWKPWXTRYRITXRHEIEQTENIMMEOSESONSEVIACICOVEMONQLHENOVOHSEMENAGEDTOYHOE\n",
      "-5790.812698525818\n",
      "[['C', 'Q', 'P', 'O', 'L'], ['T', 'K', 'Z', 'N', 'B'], ['W', 'Y', 'X', 'V', 'U'], ['H', 'S', 'M', 'A', 'R'], ['I', 'G', 'D', 'E', 'F']]\n",
      "EDLARDSLONTQANGHOUHRTVRIOGAVERTPOENCGEQZTEPDSCMYINGCOFECIBHEMCHEMEENINGSEHINGTHETWYPKBTRYRITZRHEIEQTENIMMEOSESONSEVIACICOVEMONQLHENOVOHSEMENAGEDTOYHOE\n",
      "-5708.531066437251\n",
      "[['C', 'Q', 'B', 'O', 'L'], ['T', 'K', 'Z', 'N', 'P'], ['W', 'Y', 'X', 'V', 'U'], ['H', 'S', 'M', 'A', 'R'], ['I', 'G', 'D', 'E', 'F']]\n",
      "EDLARDSLONTQANGHOUHRTVRIOGAVERTBOENCGENTTEKNSCMYINGCOFECIPHERTHEMEENINGSEHINGTHETWYBKPCMYRITDXHEIEQTENIMMEOSESONSEVIACICOVEMONTLHENOVOHSEMENAGEDTOYHOE\n",
      "-5695.876817706635\n",
      "[['C', 'Q', 'B', 'O', 'W'], ['T', 'K', 'Z', 'N', 'P'], ['L', 'Y', 'X', 'V', 'U'], ['H', 'S', 'M', 'A', 'R'], ['I', 'G', 'D', 'E', 'F']]\n",
      "EDWARDSWONTQANGHUXHRPORIOGAVERTBOENCGENTTEKNSCMYINGCVIECIPHERTHEMEENINGSEHINGTHECRYBKPCMYRWODXHEIEQTENIMMEOSESONSEOFACICOVEMONTWHENOVOHSEMENAGEDTOQROE\n",
      "-5645.087979937671\n",
      "[['C', 'L', 'B', 'O', 'W'], ['T', 'K', 'Z', 'N', 'P'], ['Q', 'Y', 'X', 'V', 'U'], ['H', 'S', 'M', 'A', 'R'], ['I', 'G', 'D', 'E', 'F']]\n",
      "EDWARDHUONTLANGHOYHRPORIVIAVERTBOENCGENTTEKNQTMYINHTOGECIPHERTHEMEENINYIEHINGTHECRYUKPCMYRWODXHEIELTENIMMEVHESONSEOFACICOVEMONTWHENOVOHSEMENAGEDTOLROE\n",
      "-5467.2506133604\n",
      "[['C', 'B', 'L', 'O', 'W'], ['T', 'K', 'Z', 'N', 'P'], ['Q', 'Y', 'X', 'V', 'U'], ['H', 'S', 'M', 'A', 'R'], ['I', 'G', 'D', 'E', 'F']]\n",
      "EDWARDHUONTBANGHOXHRPORIVIAVERTLOENCGENTTEKNQTMYINHTODECIPHERTHEMEENINYIEHINGTHECRYUKPCSYRWOLSHEIEBTENIMMEVHESONSEOFACICOVEMONTWHENOVOHSEMENAGEDTOBROE\n",
      "-5373.149865922691\n",
      "[['C', 'B', 'L', 'O', 'W'], ['T', 'Q', 'Z', 'N', 'P'], ['K', 'Y', 'X', 'V', 'U'], ['H', 'S', 'M', 'A', 'R'], ['I', 'G', 'D', 'E', 'F']]\n",
      "EDWARDSPONTIANGHOXHRPORINGAVERTLOENCGETUTEQNSTMYINGTODECIPHERTHEMEENINBSEHINHTHECRYZQPCSYRWOLSHEIEITENIMMENSESONSEOFACICOVEMONTWHENOVOHSEMENAGEDTOBROE\n",
      "-5276.61651381584\n",
      "[['C', 'B', 'L', 'O', 'W'], ['T', 'Q', 'K', 'N', 'P'], ['Z', 'Y', 'X', 'V', 'U'], ['H', 'S', 'M', 'A', 'R'], ['I', 'G', 'D', 'E', 'F']]\n",
      "EDWARDSPONTLANGHOXHRPORINGAVERTIOENCGENQTEUTSTMYINGTODECIPHERTHEMEENINBSEHINDTHECRYKTCCSYRWOLSHEIELTENIMMENSESONSEOFACICOVEMONTWHENOVOHSEMENAGEDTOBROE\n",
      "-5163.281285636988\n",
      "[['C', 'B', 'L', 'O', 'W'], ['T', 'Q', 'K', 'N', 'P'], ['Z', 'Y', 'U', 'V', 'X'], ['H', 'S', 'M', 'A', 'R'], ['I', 'G', 'D', 'E', 'F']]\n",
      "EDWARDSPONTLANGHOUHRPORINGAVERTIOENCGENQTEXTSTRYINGTODECIPHERTHEMEENINBSEHINDTHECRYPTCCSYMWOLSHEIELTENIMMENSESONSEOFACICOVEMONTWHENOVOHSEMENAGEDTOBROE\n"
     ]
    },
    {
     "ename": "KeyboardInterrupt",
     "evalue": "",
     "output_type": "error",
     "traceback": [
      "\u001b[1;31m---------------------------------------------------------------------------\u001b[0m",
      "\u001b[1;31mKeyboardInterrupt\u001b[0m                         Traceback (most recent call last)",
      "Input \u001b[1;32mIn [33]\u001b[0m, in \u001b[0;36m<cell line: 167>\u001b[1;34m()\u001b[0m\n\u001b[0;32m    165\u001b[0m bk\u001b[38;5;241m=\u001b[39mparent\n\u001b[0;32m    166\u001b[0m \u001b[38;5;28;01mwhile\u001b[39;00m \u001b[38;5;28;01mTrue\u001b[39;00m:\n\u001b[1;32m--> 167\u001b[0m     b,bk\u001b[38;5;241m=\u001b[39m\u001b[43mplaycrack\u001b[49m\u001b[43m(\u001b[49m\u001b[43mcc\u001b[49m\u001b[43m,\u001b[49m\u001b[43mbk\u001b[49m\u001b[43m)\u001b[49m\n\u001b[0;32m    168\u001b[0m     \u001b[38;5;28mprint\u001b[39m(b)\n\u001b[0;32m    169\u001b[0m     \u001b[38;5;28mprint\u001b[39m(bk)\n",
      "Input \u001b[1;32mIn [33]\u001b[0m, in \u001b[0;36mplaycrack\u001b[1;34m(ciph, key)\u001b[0m\n\u001b[0;32m    142\u001b[0m c\u001b[38;5;241m=\u001b[39mplayfairmat(child,ciph,\u001b[38;5;28;01mFalse\u001b[39;00m)\n\u001b[0;32m    143\u001b[0m p\u001b[38;5;241m=\u001b[39mplayfairmat(parent,ciph,\u001b[38;5;28;01mFalse\u001b[39;00m)\n\u001b[1;32m--> 144\u001b[0m score\u001b[38;5;241m=\u001b[39m\u001b[43mfit\u001b[49m\u001b[43m(\u001b[49m\u001b[43mc\u001b[49m\u001b[43m)\u001b[49m\n\u001b[0;32m    145\u001b[0m df \u001b[38;5;241m=\u001b[39m score\u001b[38;5;241m-\u001b[39mmaxscore\n\u001b[0;32m    146\u001b[0m \u001b[38;5;28;01mif\u001b[39;00m df \u001b[38;5;241m>\u001b[39m \u001b[38;5;241m0\u001b[39m:\n",
      "Input \u001b[1;32mIn [33]\u001b[0m, in \u001b[0;36mfit\u001b[1;34m(text)\u001b[0m\n\u001b[0;32m     39\u001b[0m \u001b[38;5;28;01mdef\u001b[39;00m \u001b[38;5;21mfit\u001b[39m(text):\n\u001b[1;32m---> 40\u001b[0m     \u001b[38;5;28;01mreturn\u001b[39;00m \u001b[43mFitness\u001b[49m\u001b[43m(\u001b[49m\u001b[43mlclear\u001b[49m\u001b[43m(\u001b[49m\u001b[43mtext\u001b[49m\u001b[43m)\u001b[49m\u001b[43m,\u001b[49m\u001b[43mn4\u001b[49m\u001b[43m,\u001b[49m\u001b[38;5;241;43m4\u001b[39;49m\u001b[43m,\u001b[49m\u001b[43mf\u001b[49m\u001b[43m)\u001b[49m\n",
      "Input \u001b[1;32mIn [33]\u001b[0m, in \u001b[0;36mFitness\u001b[1;34m(text, kgrams, k, f)\u001b[0m\n\u001b[0;32m     23\u001b[0m \u001b[38;5;28;01mfor\u001b[39;00m i \u001b[38;5;129;01min\u001b[39;00m \u001b[38;5;28mrange\u001b[39m(\u001b[38;5;28mlen\u001b[39m(text)\u001b[38;5;241m-\u001b[39m\u001b[38;5;241m1\u001b[39m):\n\u001b[0;32m     24\u001b[0m     d\u001b[38;5;241m=\u001b[39mtext[i:i\u001b[38;5;241m+\u001b[39mk]\n\u001b[1;32m---> 25\u001b[0m     \u001b[38;5;28;01mif\u001b[39;00m d \u001b[38;5;129;01min\u001b[39;00m \u001b[43mkgrams\u001b[49m\u001b[38;5;241;43m.\u001b[39;49m\u001b[43mkeys\u001b[49m():\n\u001b[0;32m     26\u001b[0m         score\u001b[38;5;241m+\u001b[39m\u001b[38;5;241m=\u001b[39mkgrams[d]\n\u001b[0;32m     27\u001b[0m     \u001b[38;5;28;01melse\u001b[39;00m:\n",
      "\u001b[1;31mKeyboardInterrupt\u001b[0m: "
     ]
    }
   ],
   "source": [
    "#remove all non-lower case elements of the standard latin alphabet\n",
    "def lclear(text):\n",
    "    return re.sub(r'[^a-z]', '', text.lower()) # we use regular expressions\n",
    "\n",
    "def Ngrams(text,n): #logarithmic fitness\n",
    "    digs=dict()\n",
    "    for i in range(len(text)-n):\n",
    "        d=text[i:i+n]\n",
    "        if d in digs.keys():\n",
    "            digs[d]+=1\n",
    "        else:\n",
    "            digs[d]=1\n",
    "\n",
    "    tot=sum([digs[x] for x in digs.keys()])\n",
    "    for k in digs.keys():\n",
    "        digs[k]/=tot*1.0\n",
    "        digs[k]=math.log(digs[k],10)\n",
    "    flo=math.log(0.01/tot,10) #base score\n",
    "    return digs, list(reversed(sorted([[digs[v],v] for v in digs.keys()]))),flo\n",
    "\n",
    "def Fitness(text,kgrams,k,f): #compute fitness of text with respect to kgrams dictionary\n",
    "    score=0\n",
    "    for i in range(len(text)-1):\n",
    "        d=text[i:i+k]\n",
    "        if d in kgrams.keys():\n",
    "            score+=kgrams[d]\n",
    "        else:\n",
    "            score+=f\n",
    "    return score\n",
    "\n",
    "counter=0\n",
    "longtxt=''\n",
    "with open('statics/PictureOfDorianGray.txt', encoding='utf8') as f:\n",
    "    for line in f:\n",
    "        longtxt+=lclear(line.strip())\n",
    "        counter+=1\n",
    "n4,l4,f=Ngrams(longtxt.replace('j','i'),4) #in playfair j and i are the same\n",
    "\n",
    "def fit(text):\n",
    "    return Fitness(lclear(text),n4,4,f)\n",
    "def indexOf(letter,matrix):\n",
    "    for i in range (5):\n",
    "        try:\n",
    "            index = matrix[i].index(letter)\n",
    "            return (i,index)\n",
    "        except:\n",
    "            continue\n",
    "            \n",
    "def create_matrix(key):\n",
    "    key = key.upper()\n",
    "    matrix = [[0 for i in range (5)] for j in range(5)]\n",
    "    letters_added = []\n",
    "    row = 0\n",
    "    col = 0\n",
    "    # add the key to the matrix\n",
    "    for letter in key:\n",
    "        if letter not in letters_added:\n",
    "            matrix[row][col] = letter\n",
    "            letters_added.append(letter)\n",
    "        else:\n",
    "            continue\n",
    "        if (col==4):\n",
    "            col = 0\n",
    "            row += 1\n",
    "        else:\n",
    "            col += 1\n",
    "    #Add the rest of the alphabet to the matrix\n",
    "    # A=65 ... Z=90\n",
    "    for letter in range(65,91):\n",
    "        if letter==74: # I/J are in the same position\n",
    "                continue\n",
    "        if chr(letter) not in letters_added: # Do not add repeated letters\n",
    "            letters_added.append(chr(letter))\n",
    "            \n",
    "    #print (len(letters_added), letters_added)\n",
    "    index = 0\n",
    "    for i in range(5):\n",
    "        for j in range(5):\n",
    "            matrix[i][j] = letters_added[index]\n",
    "            index+=1\n",
    "    return matrix\n",
    "\n",
    "def separate_same_letters(message):\n",
    "    index = 0\n",
    "    while (index<len(message)):\n",
    "        l1 = message[index]\n",
    "        if index == len(message)-1:\n",
    "            message = message + 'X'\n",
    "            index += 2\n",
    "            continue\n",
    "        l2 = message[index+1]\n",
    "        if l1==l2:\n",
    "            message = message[:index+1] + \"X\" + message[index+1:]\n",
    "        index +=2   \n",
    "    return message\n",
    "\n",
    "def playfairmat(key, message, encrypt=True):\n",
    "    inc = 1\n",
    "    if encrypt==False:\n",
    "        inc = -1\n",
    "    matrix = key\n",
    "    message = message.upper()\n",
    "    message = message.replace(' ','')    \n",
    "    message = separate_same_letters(message)\n",
    "    cipher_text=''\n",
    "    for (l1, l2) in zip(message[0::2], message[1::2]):\n",
    "        row1,col1 = indexOf(l1,matrix)\n",
    "        row2,col2 = indexOf(l2,matrix)\n",
    "        if row1==row2: #Rule 2, the letters are in the same row\n",
    "            cipher_text += matrix[row1][(col1+inc)%5] + matrix[row2][(col2+inc)%5]\n",
    "        elif col1==col2:# Rule 3, the letters are in the same column\n",
    "            cipher_text += matrix[(row1+inc)%5][col1] + matrix[(row2+inc)%5][col2]\n",
    "        else: #Rule 4, the letters are in a different row and column\n",
    "            cipher_text += matrix[row1][col2] + matrix[row2][col1]\n",
    "    return cipher_text\n",
    "def swap(m1):\n",
    "    m=copy.deepcopy(m1)\n",
    "    x=random.randint(0,4)\n",
    "    y=random.randint(0,4)\n",
    "    u=random.randint(0,4)\n",
    "    v=random.randint(0,4)\n",
    "    a=m[x][y]\n",
    "    b=m[u][v]\n",
    "    m[u][v]=a\n",
    "    m[x][y]=b\n",
    "    return m\n",
    "def modify_key(m):\n",
    "    return swap(m)\n",
    "def playcrack(ciph,key):\n",
    "    temp  = 200\n",
    "    step  = 2\n",
    "    count = 10000\n",
    "    parent = key\n",
    "    maxscore=fit(playfairmat(parent,ciph,False))\n",
    "    bestscore=maxscore\n",
    "    bestkey = parent\n",
    "\n",
    "    for tt in range(temp,0,-step):\n",
    "        t=tt/10.0\n",
    "        for _ in range(count,0,-1):\n",
    "            child=modify_key(parent)\n",
    "            c=playfairmat(child,ciph,False)\n",
    "            p=playfairmat(parent,ciph,False)\n",
    "            score=fit(c)\n",
    "            df = score-maxscore\n",
    "            if df > 0:\n",
    "                parent = child\n",
    "                maxscore=score\n",
    "            else:\n",
    "                prob = math.exp(df/t)\n",
    "                r=random.random()\n",
    "                if prob > r:\n",
    "                    parent = child\n",
    "                    maxscore=score\n",
    "            if maxscore > bestscore:\n",
    "                bestscore = maxscore\n",
    "                bestkey = parent\n",
    "                print(bestscore)\n",
    "                print(bestkey)\n",
    "                print(playfairmat(bestkey,ciph,False)[:150])\n",
    "    return bestscore,bestkey\n",
    "parent=create_matrix('ABCDEFGHIKLMNOPQRSTUVWXYZ'.lower())\n",
    "cc = ciphertext4\n",
    "b=-200000\n",
    "bk=parent\n",
    "while True:\n",
    "    b,bk=playcrack(cc,bk)\n",
    "    print(b)\n",
    "    print(bk)\n",
    "    print(playfairmat(bk,cc,False)[:150])"
   ]
  },
  {
   "cell_type": "markdown",
   "id": "d8e0f0c7-2689-4c6b-8467-ddd64ee47554",
   "metadata": {},
   "source": [
    "--------\n",
    "This algorithm takes time (3-30 minutes depending on the coputer). Also it should be run multiple times, since it might still stuck in local optimum without reaching the coorect solution. Therefore it's better to implement this decryption attack in languages like C/C++, C#, Java, Go (for the sake of execution speed + mutithreading)."
   ]
  },
  {
   "cell_type": "code",
   "execution_count": 34,
   "id": "4110be33-cd57-4c60-afd8-ba0ad45bd351",
   "metadata": {},
   "outputs": [],
   "source": [
    "possibleKey1 = [['B', 'L', 'C', 'O', 'W'], ['G', 'D', 'I', 'E', 'F'], ['Q', 'K', 'T', 'N', 'P'], ['Y', 'U', 'Z', 'V', 'X'], ['S', 'M', 'H', 'A', 'R']]\n",
    "possibleKey2 = [['I', 'D', 'G', 'E', 'F'], ['T', 'K', 'Q', 'N', 'P'], ['Z', 'U', 'Y', 'V', 'X'], ['H', 'M', 'S', 'A', 'R'], ['C', 'L', 'B', 'O', 'W']]"
   ]
  },
  {
   "cell_type": "code",
   "execution_count": 37,
   "id": "d34fc6b0-c2da-49be-b8c0-387e975d3542",
   "metadata": {},
   "outputs": [
    {
     "name": "stdout",
     "output_type": "stream",
     "text": [
      "EIWARDSPENTLONGHOURMPORINGOVERTHEANCGENQTEXTSTRYINGTODECIPHERTHEMEANINGBEHINDTHECRYPTICSYMLOLSHEFELTANIMMENSESENSEOFACHIEVEMENTWHENEVERSEMANAGEITOBREAKABOIEBUTHISPROGRESXSWAMSLOWANDHEDREWINCREAMINGLYFRUSTRATEDASEDWARDWRESTLEDWITHTHEBOIEMSEBEDANTONOTICEACSANGEWITHINHIMSELFTHEDENTLELOVINGTEIDYBEARHEONCEWASXSTARTEDTOVANISSREPLACEDBYACREATUREOLSESXSEDWITHCRYPQANALYSISHENOCONGERENIOYEDPLAYINGWITHTHECHILDRENINCOZYSPRINGSANDHISONCESOFTFURBECAHEMATTEDANDUNKEMPTEVENHISONCESPARKLINDEYESXSEEMEITOCOSETHEGRLUSTERDESPITEHISXSTRUGXGLESEIWARDWASDETERMINEDTOUNLOBTQHEFGNACBODEGNQHELOOKWHICHWAMMAGITOBONQAINANANCGENQSECRETTHECODEWAMUNLIKEANYHEHADENBOUNTEREDBEFOREASEEMINGLUZNSOCVALCEPZYZLETSATCONSUMEDHISEVERYWAKINGTHOUGHTONEXEVENINGASEDWARDSATATHISDESKSCRIBLCINDFEVERISHLYONAPIECEOFPAPERAYOUNGDGRLNAMEDLILYKNOCKEIONHISDOXORLILYWAMASWEXETCURIOUSGIRCWHOSADBEFRIENIEIEDWARIGNHAPPIERTIMESXMSEHADNOTICEDHISABSENCEFROMTHEVILXLADEANDHADGROWNCONCERNEIFORSERFRGEND\n",
      "-4676.6754082774705\n",
      "EGWARDSPENTLONGHOUMRPORINGOVERTHEANCIENTTEXTSTRYINGTODECIPHERTHEMEANINGBEHINDTHECRYPTICSYMWOLSHEDELTANIMMENSESENSEOFACHIEVEMENTWHENEVEMHEMANAGEGTOBREAKACOGEBUTHISPROGRESXSWARSLOLANDHEFREWINCREARINGLYFRUSTMATEDASEDWAMDWRESTLEDWITHTHECOGERHEBEFANTONOTICEACHANGEWITHINHIMSELFTHEFENTLELOVINGTEGDYBEAMHEONCEWASXSTAMTEDTOVANISHMEPLACEDBYACREATUREOWSESXSEDWITHCRYKTANALYSISHENOBONGERENIOYEDPLAYINGWITHTHECHILDRENINCOZYSPRINGSANDHISONCESOFTFURBECASEMATTEDANDUNKEMPTEVENHISONCESPAMKLINFEYESXSEEMEGTOBOSETHEIRLUSTERDESPITEHISXSTRUGXGLESEGWARDWASDETERMINEDTOUNLOCQTHEDINABCODEINTHEWOOKWHICHWARRAIGTOCONTAINANANCIENTSECRETTHECODEWARUNLIKEANYHEHADENCOUNTEREDBEDOREASEEMINGLXYNSOBVAWBEPYZZLETHATCONSUMEDHISEVERYWAKINGTHOUGHTONEXEVENINGASEDWAMDSATATHISDESKSCRIBWBINFDEVERISHLYONAPIECEOFPAPERAYOUNGFIRLNAMEDLILYKNOCKEGONHISDOXORLILYWARASWEXETCURIOUSGIRBLHOHADBEDRIENGEGEDWAMGINHAPPIERTIMESXRHEHADNOTICEDHISABSENCEDROMTHEVILXLAFEANDHADGROLNCONCERNEGFOMHERFRIEND\n",
      "-4632.376827663768\n"
     ]
    }
   ],
   "source": [
    "print(playfairmat(possibleKey1,ciphertext4,False))\n",
    "print(fit(playfairmat(possibleKey1,ciphertext4,False)))\n",
    "print(playfairmat(possibleKey2,ciphertext4,False))\n",
    "print(fit(playfairmat(possibleKey2,ciphertext4,False)))"
   ]
  },
  {
   "cell_type": "markdown",
   "id": "72530fe0-8890-483a-9752-bdb8cef75e3e",
   "metadata": {},
   "source": [
    "------\n",
    "**Above are shown 2 most successful decryption contenders.**\n",
    "Though we see the words, but it's not 100% accurate. If we need correct, human-friendly text, we can pass it through some LLM, such as ChatGPT to beautify it.\n",
    "\n",
    "**Corrrect Decryption:**\n",
    "Edward spent long hours poring over the ancient texts, trying to decipher the meaning behind the cryptic symbols. He felt immense satisfaction whenever he managed to break a code, but his progress was slow, and he grew increasingly frustrated. He wrestled with the complex puzzles, hoping to notice a change within himself.\n",
    "\n",
    "The gentle, loving Teddy bear he once was seemed to vanish, replaced by a creature obsessed with cryptanalysis. He no longer enjoyed playing with the children in cozy springs, and his once soft fur became matted and unkempt. Even his once sparkling eyes seemed to lose their luster.\n",
    "\n",
    "Despite his struggles, Edward was determined to unlock the hidden code in the book, which he believed contained an ancient secret. The code was unlike anything he had encountered before, a seemingly unsolvable puzzle that consumed his every waking thought.\n",
    "\n",
    "One evening, as Edward sat at his desk, scribbling feverishly on a piece of paper, a young girl named Lily knocked on his door. Lily was a curious girl who had been missing Edward's presence in the village and grew concerned for her friend."
   ]
  },
  {
   "cell_type": "code",
   "execution_count": null,
   "id": "82f715b8-addb-4d31-978f-a25eed3375e1",
   "metadata": {},
   "outputs": [],
   "source": []
  }
 ],
 "metadata": {
  "kernelspec": {
   "display_name": "Python 3 (ipykernel)",
   "language": "python",
   "name": "python3"
  },
  "language_info": {
   "codemirror_mode": {
    "name": "ipython",
    "version": 3
   },
   "file_extension": ".py",
   "mimetype": "text/x-python",
   "name": "python",
   "nbconvert_exporter": "python",
   "pygments_lexer": "ipython3",
   "version": "3.9.12"
  }
 },
 "nbformat": 4,
 "nbformat_minor": 5
}
